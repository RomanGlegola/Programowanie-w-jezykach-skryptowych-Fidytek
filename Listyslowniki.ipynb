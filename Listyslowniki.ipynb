{
 "cells": [
  {
   "cell_type": "markdown",
   "metadata": {},
   "source": [
    "# Listy i słowniki"
   ]
  },
  {
   "cell_type": "markdown",
   "metadata": {},
   "source": [
    "Imię i nazwisko autora rozwiązań zadań: Roman Glegoła\n",
    "\n",
    "Data wykonania zadań: 01.04.2023"
   ]
  },
  {
   "cell_type": "markdown",
   "metadata": {},
   "source": [
    "### Zadania z list"
   ]
  },
  {
   "cell_type": "markdown",
   "metadata": {},
   "source": [
    "##### Dana jest lista L składająca się z 500 pseudolosowych liczb naturalnych z przedziału [1,2000]:"
   ]
  },
  {
   "cell_type": "code",
   "execution_count": 83,
   "metadata": {},
   "outputs": [
    {
     "name": "stdout",
     "output_type": "stream",
     "text": [
      "[1609, 737, 1899, 1811, 1620, 940, 223, 1487, 1988, 1749, 850, 885, 1752, 1753, 1094, 1610, 1313, 1637, 1622, 1982, 194, 283, 402, 906, 526, 128, 239, 1130, 1419, 308, 1614, 950, 1067, 1444, 1702, 67, 380, 789, 639, 937, 347, 1091, 969, 1079, 801, 1115, 901, 558, 168, 1835, 1185, 1815, 667, 189, 661, 1353, 661, 1021, 1321, 562, 533, 678, 1313, 621, 1555, 1803, 950, 418, 1040, 482, 835, 1238, 807, 885, 349, 525, 61, 1873, 532, 283, 1460, 1853, 153, 1556, 406, 1830, 1325, 1622, 1282, 6, 1314, 459, 530, 1161, 1974, 1768, 1930, 866, 949, 567, 1169, 902, 1598, 1809, 1321, 898, 1005, 982, 1846, 894, 47, 198, 1407, 767, 1553, 149, 450, 345, 498, 935, 433, 1879, 1911, 503, 498, 685, 159, 1778, 269, 1830, 1816, 1253, 1573, 327, 288, 536, 271, 126, 1998, 159, 1119, 688, 1370, 1766, 1690, 1676, 1090, 163, 1160, 985, 927, 1201, 883, 1425, 1631, 36, 1630, 423, 922, 1798, 452, 1428, 247, 820, 552, 1517, 1928, 1877, 230, 1016, 106, 21, 1411, 1545, 1456, 804, 1517, 1936, 60, 1569, 1620, 1388, 371, 946, 605, 507, 889, 665, 429, 1037, 809, 667, 1333, 1090, 65, 487, 1610, 37, 384, 610, 1942, 1514, 1533, 1336, 415, 406, 1237, 1259, 783, 1073, 1773, 1736, 901, 439, 1201, 174, 367, 48, 1224, 1865, 1126, 1196, 1525, 1845, 1554, 507, 1598, 1441, 1787, 75, 929, 1310, 801, 860, 270, 76, 1786, 1993, 410, 187, 798, 1683, 1993, 799, 512, 810, 1286, 1710, 885, 145, 259, 250, 964, 169, 1108, 512, 1478, 1408, 1477, 783, 1374, 1653, 280, 927, 1169, 291, 1236, 1508, 1920, 605, 537, 962, 1225, 1349, 1202, 506, 1029, 260, 1857, 822, 757, 1831, 730, 882, 1328, 1726, 233, 1744, 589, 827, 1841, 1616, 1645, 505, 1988, 321, 460, 1866, 90, 1455, 1999, 1451, 1237, 572, 867, 1091, 633, 1144, 1877, 1468, 742, 1359, 970, 903, 1894, 252, 172, 1886, 1777, 726, 1347, 256, 477, 945, 483, 420, 917, 1360, 384, 1953, 1903, 510, 147, 764, 399, 705, 1613, 474, 96, 801, 713, 1760, 252, 678, 156, 1118, 1576, 433, 1061, 263, 1418, 997, 1217, 1184, 1299, 1256, 218, 1976, 1904, 1192, 57, 1986, 1346, 850, 1349, 867, 1241, 1091, 827, 383, 1297, 546, 1495, 1899, 310, 1743, 1516, 1037, 15, 108, 1466, 349, 1141, 764, 1992, 1003, 74, 52, 1402, 911, 772, 234, 1819, 1635, 524, 410, 726, 500, 1722, 1827, 1231, 1792, 797, 1224, 323, 424, 1834, 136, 971, 1403, 868, 1001, 1949, 1064, 1771, 1102, 969, 712, 672, 1918, 1827, 1197, 324, 1269, 688, 1871, 908, 632, 332, 312, 201, 562, 96, 818, 1550, 166, 1887, 199, 1173, 92, 693, 979, 41, 657, 1393, 826, 417, 375, 230, 1470, 681, 753, 1465, 1923, 1746, 1990, 1033, 1766, 607, 480, 1895, 232, 508, 809, 863, 1401, 1080, 478, 1166, 1723, 284, 235, 169, 349, 1578, 1502, 1471, 991, 492, 1465, 560, 331, 1263, 194, 525, 1289, 1323, 1960, 341, 1530, 132, 804, 1434, 1205, 1605, 1419, 468, 172, 1858, 1577]\n"
     ]
    }
   ],
   "source": [
    "import random\n",
    "L=[]\n",
    "for i in range(500):\n",
    "    L.append(random.randint(1,2000))\n",
    "print(L)"
   ]
  },
  {
   "cell_type": "code",
   "execution_count": 84,
   "metadata": {},
   "outputs": [],
   "source": [
    "from typing import Generator\n",
    "from random import sample\n",
    "from functools import reduce\n",
    "from collections import Counter"
   ]
  },
  {
   "cell_type": "markdown",
   "metadata": {},
   "source": [
    "1) Oblicz sumę wszystkich elementów listy L."
   ]
  },
  {
   "cell_type": "code",
   "execution_count": 85,
   "metadata": {},
   "outputs": [
    {
     "name": "stdout",
     "output_type": "stream",
     "text": [
      "497544\n"
     ]
    }
   ],
   "source": [
    "def oblicz_sume(lista: list) -> int:\n",
    "    \"\"\"\n",
    "    Oblicza sumę wszystkich elementów listy.\n",
    "    :param List[int] lista: Lista zawierająca liczby całkowite.\n",
    "    :return: Suma wszystkich elementów listy.\n",
    "    :rtype: int\n",
    "    \"\"\"\n",
    "    return sum(lista)\n",
    "\n",
    "print(oblicz_sume(L))"
   ]
  },
  {
   "cell_type": "markdown",
   "metadata": {},
   "source": [
    "2) Znajdź największy element listy L."
   ]
  },
  {
   "cell_type": "code",
   "execution_count": 86,
   "metadata": {},
   "outputs": [
    {
     "name": "stdout",
     "output_type": "stream",
     "text": [
      "1999\n"
     ]
    }
   ],
   "source": [
    "def znajdz_najwiekszy(lista: list) -> int:\n",
    "    \"\"\"\n",
    "    Znajduje największy element listy.\n",
    "    :param list L: Lista elementów.\n",
    "    :return: Największy element listy.\n",
    "    :rtype: int\n",
    "    \"\"\"\n",
    "    return max(lista)\n",
    "print(znajdz_najwiekszy(L))"
   ]
  },
  {
   "cell_type": "markdown",
   "metadata": {},
   "source": [
    "3) Wypisz na ekranie posortowane niemalejąco elementy listy L."
   ]
  },
  {
   "cell_type": "code",
   "execution_count": 87,
   "metadata": {},
   "outputs": [
    {
     "name": "stdout",
     "output_type": "stream",
     "text": [
      "[6, 15, 21, 36, 37, 41, 47, 48, 52, 57, 60, 61, 65, 67, 74, 75, 76, 90, 92, 96, 96, 106, 108, 126, 128, 132, 136, 145, 147, 149, 153, 156, 159, 159, 163, 166, 168, 169, 169, 172, 172, 174, 187, 189, 194, 194, 198, 199, 201, 218, 223, 230, 230, 232, 233, 234, 235, 239, 247, 250, 252, 252, 256, 259, 260, 263, 269, 270, 271, 280, 283, 283, 284, 288, 291, 308, 310, 312, 321, 323, 324, 327, 331, 332, 341, 345, 347, 349, 349, 349, 367, 371, 375, 380, 383, 384, 384, 399, 402, 406, 406, 410, 410, 415, 417, 418, 420, 423, 424, 429, 433, 433, 439, 450, 452, 459, 460, 468, 474, 477, 478, 480, 482, 483, 487, 492, 498, 498, 500, 503, 505, 506, 507, 507, 508, 510, 512, 512, 524, 525, 525, 526, 530, 532, 533, 536, 537, 546, 552, 558, 560, 562, 562, 567, 572, 589, 605, 605, 607, 610, 621, 632, 633, 639, 657, 661, 661, 665, 667, 667, 672, 678, 678, 681, 685, 688, 688, 693, 705, 712, 713, 726, 726, 730, 737, 742, 753, 757, 764, 764, 767, 772, 783, 783, 789, 797, 798, 799, 801, 801, 801, 804, 804, 807, 809, 809, 810, 818, 820, 822, 826, 827, 827, 835, 850, 850, 860, 863, 866, 867, 867, 868, 882, 883, 885, 885, 885, 889, 894, 898, 901, 901, 902, 903, 906, 908, 911, 917, 922, 927, 927, 929, 935, 937, 940, 945, 946, 949, 950, 950, 962, 964, 969, 969, 970, 971, 979, 982, 985, 991, 997, 1001, 1003, 1005, 1016, 1021, 1029, 1033, 1037, 1037, 1040, 1061, 1064, 1067, 1073, 1079, 1080, 1090, 1090, 1091, 1091, 1091, 1094, 1102, 1108, 1115, 1118, 1119, 1126, 1130, 1141, 1144, 1160, 1161, 1166, 1169, 1169, 1173, 1184, 1185, 1192, 1196, 1197, 1201, 1201, 1202, 1205, 1217, 1224, 1224, 1225, 1231, 1236, 1237, 1237, 1238, 1241, 1253, 1256, 1259, 1263, 1269, 1282, 1286, 1289, 1297, 1299, 1310, 1313, 1313, 1314, 1321, 1321, 1323, 1325, 1328, 1333, 1336, 1346, 1347, 1349, 1349, 1353, 1359, 1360, 1370, 1374, 1388, 1393, 1401, 1402, 1403, 1407, 1408, 1411, 1418, 1419, 1419, 1425, 1428, 1434, 1441, 1444, 1451, 1455, 1456, 1460, 1465, 1465, 1466, 1468, 1470, 1471, 1477, 1478, 1487, 1495, 1502, 1508, 1514, 1516, 1517, 1517, 1525, 1530, 1533, 1545, 1550, 1553, 1554, 1555, 1556, 1569, 1573, 1576, 1577, 1578, 1598, 1598, 1605, 1609, 1610, 1610, 1613, 1614, 1616, 1620, 1620, 1622, 1622, 1630, 1631, 1635, 1637, 1645, 1653, 1676, 1683, 1690, 1702, 1710, 1722, 1723, 1726, 1736, 1743, 1744, 1746, 1749, 1752, 1753, 1760, 1766, 1766, 1768, 1771, 1773, 1777, 1778, 1786, 1787, 1792, 1798, 1803, 1809, 1811, 1815, 1816, 1819, 1827, 1827, 1830, 1830, 1831, 1834, 1835, 1841, 1845, 1846, 1853, 1857, 1858, 1865, 1866, 1871, 1873, 1877, 1877, 1879, 1886, 1887, 1894, 1895, 1899, 1899, 1903, 1904, 1911, 1918, 1920, 1923, 1928, 1930, 1936, 1942, 1949, 1953, 1960, 1974, 1976, 1982, 1986, 1988, 1988, 1990, 1992, 1993, 1993, 1998, 1999]\n"
     ]
    }
   ],
   "source": [
    "def wypisz_niemalejaco(lista: list) -> list:\n",
    "    \"\"\"\n",
    "    Wypisuje na ekranie posortowane rosnąco elementy listy.\n",
    "    :param list lista: Lista do posortowania i wyświetlenia.\n",
    "    :return: Posortowana lista.\n",
    "    :rtype: list\n",
    "    \"\"\"\n",
    "    return sorted(lista)\n",
    "print(wypisz_niemalejaco(L))"
   ]
  },
  {
   "cell_type": "markdown",
   "metadata": {},
   "source": [
    "4) Wypisz pierwsze 10 elementów listy L na ekranie."
   ]
  },
  {
   "cell_type": "code",
   "execution_count": 88,
   "metadata": {},
   "outputs": [
    {
     "name": "stdout",
     "output_type": "stream",
     "text": [
      "[1609, 737, 1899, 1811, 1620, 940, 223, 1487, 1988, 1749]\n"
     ]
    }
   ],
   "source": [
    "def wypisz_pierwsze_10_elementow(lista: list) -> list:\n",
    "    \"\"\"\n",
    "    Funkcja wypisująca pierwsze 10 elementów listy na ekranie.\n",
    "    :param list lista: Lista elementów.\n",
    "    :return: 10 elementów listy losta\n",
    "    :rtype: list\n",
    "    \"\"\"\n",
    "    return lista[:10]\n",
    "print(wypisz_pierwsze_10_elementow(L))"
   ]
  },
  {
   "cell_type": "markdown",
   "metadata": {},
   "source": [
    "5) Oblicz iloczyn elementów listy L."
   ]
  },
  {
   "cell_type": "code",
   "execution_count": 89,
   "metadata": {},
   "outputs": [
    {
     "name": "stdout",
     "output_type": "stream",
     "text": [
      "5538601364912918002164909966091768220956395628265629466869010835587096914198631502737022981209332095906093838154528804129019257071806011196961693886334075884814181700550050388000625504666587865642495584325916100046156060094944718599342216029056948569211914506574045057394238177381891348970872879764893163553914941604206571668146787849003140406952622923533314298990156173802935542794159311483305586528878588147701062110309235081789361746412553765645706907738985607111881659743300363583049678112913907310423061484783678388268913641806737968004018606013714651517319096478422149227113367555010362736285706237941373785525546819639160756706181474047928724311712136069830659832066028564075165234367271850483048448088696391458646443413456938300217978402800772958003586479307189084726773356622266568344561928633680185756422840247485239591118363255736077049493094800954165989562854007516153481054055627591530415706936274464017939707256938975736625581678759450729833229934852700018845750543085908015616145113347576848061452246571881585506873457468770230463548626976738294313693093365108104672584247133735685548597687504921601214083714472822447262742412666143370658841748473094295340898805291897687414985577712854685403522912114092967114977487885243248872237046817698337838430020106510523820137994400646443705612734503775004262400000000000000000000000000000000000000000000000000000000000000000000000000000000000000000000000000000000000000000000000000\n"
     ]
    }
   ],
   "source": [
    "def oblicz_iloczyn(lista: list) -> int:\n",
    "    \"\"\"\n",
    "    Oblicza iloczyn elementów listy.\n",
    "    :param list L: lista elementów\n",
    "    :return: iloczyn elementów listy\n",
    "    :rtype: int\n",
    "    \"\"\"\n",
    "    return reduce(lambda x, y: x*y, lista)\n",
    "print(oblicz_iloczyn(L))"
   ]
  },
  {
   "cell_type": "markdown",
   "metadata": {},
   "source": [
    "6) Oblicz ile liczb trzycyfrowych zawiera lista L."
   ]
  },
  {
   "cell_type": "code",
   "execution_count": 90,
   "metadata": {},
   "outputs": [
    {
     "name": "stdout",
     "output_type": "stream",
     "text": [
      "240\n"
     ]
    }
   ],
   "source": [
    "def ile_liczb_trzycyfrowych(lista: list) -> int:\n",
    "    \"\"\"\n",
    "    Funkcja oblicza ile liczb trzycyfrowych zawiera lista.\n",
    "    :param list lista: Lista liczb.\n",
    "    :return: Liczba liczb trzycyfrowych w liście.\n",
    "    :rtype: int\n",
    "    \"\"\"\n",
    "    return sum(1 for liczba in lista if 100 <= liczba <= 999)\n",
    "print(ile_liczb_trzycyfrowych(L))"
   ]
  },
  {
   "cell_type": "markdown",
   "metadata": {},
   "source": [
    "7) Znajdź liczbę/liczby, które najczęściej występują na liście L. Wypisz ilość ich powtórzeń."
   ]
  },
  {
   "cell_type": "code",
   "execution_count": 91,
   "metadata": {},
   "outputs": [
    {
     "name": "stdout",
     "output_type": "stream",
     "text": [
      "{885: 3, 1091: 3, 801: 3, 349: 3}\n"
     ]
    }
   ],
   "source": [
    "def najczestsza_liczba(lista: list) -> dict:\n",
    "    \"\"\"\n",
    "    Znajduje liczbę, która najczęściej występuje na liście i zwraca ilość powtórzeń.\n",
    "\n",
    "    :param list lista: Lista liczb.\n",
    "    :return: Słownik zawierający liczby i ich ilość powtórzeń.\n",
    "    :rtype: dict\n",
    "    \"\"\"\n",
    "    return {liczba: ilosc for liczba, ilosc in Counter(lista).items() if ilosc == max(Counter(lista).values())}\n",
    "print(najczestsza_liczba(L))"
   ]
  },
  {
   "cell_type": "markdown",
   "metadata": {},
   "source": [
    "8) Wypisz wszystkie liczby, które nie powtarzają się na liście L."
   ]
  },
  {
   "cell_type": "code",
   "execution_count": 92,
   "metadata": {},
   "outputs": [
    {
     "name": "stdout",
     "output_type": "stream",
     "text": [
      "[1609, 737, 1811, 940, 223, 1487, 1749, 1752, 1753, 1094, 1637, 1982, 402, 906, 526, 128, 239, 1130, 308, 1614, 1067, 1444, 1702, 67, 380, 789, 639, 937, 347, 1079, 1115, 558, 168, 1835, 1185, 1815, 189, 1353, 1021, 533, 621, 1555, 1803, 418, 1040, 482, 835, 1238, 807, 61, 1873, 532, 1460, 1853, 153, 1556, 1325, 1282, 6, 1314, 459, 530, 1161, 1974, 1768, 1930, 866, 949, 567, 902, 1809, 898, 1005, 982, 1846, 894, 47, 198, 1407, 767, 1553, 149, 450, 345, 935, 1879, 1911, 503, 685, 1778, 269, 1816, 1253, 1573, 327, 288, 536, 271, 126, 1998, 1119, 1370, 1690, 1676, 163, 1160, 985, 883, 1425, 1631, 36, 1630, 423, 922, 1798, 452, 1428, 247, 820, 552, 1928, 1016, 106, 21, 1411, 1545, 1456, 1936, 60, 1569, 1388, 371, 946, 889, 665, 429, 1333, 65, 487, 37, 610, 1942, 1514, 1533, 1336, 415, 1259, 1073, 1773, 1736, 439, 174, 367, 48, 1865, 1126, 1196, 1525, 1845, 1554, 1441, 1787, 75, 929, 1310, 860, 270, 76, 1786, 187, 798, 1683, 799, 810, 1286, 1710, 145, 259, 250, 964, 1108, 1478, 1408, 1477, 1374, 1653, 280, 291, 1236, 1508, 1920, 537, 962, 1225, 1202, 506, 1029, 260, 1857, 822, 757, 1831, 730, 882, 1328, 1726, 233, 1744, 589, 1841, 1616, 1645, 505, 321, 460, 1866, 90, 1455, 1999, 1451, 572, 633, 1144, 1468, 742, 1359, 970, 903, 1894, 1886, 1777, 1347, 256, 477, 945, 483, 420, 917, 1360, 1953, 1903, 510, 147, 399, 705, 1613, 474, 713, 1760, 156, 1118, 1576, 1061, 263, 1418, 997, 1217, 1184, 1299, 1256, 218, 1976, 1904, 1192, 57, 1986, 1346, 1241, 383, 1297, 546, 1495, 310, 1743, 1516, 15, 108, 1466, 1141, 1992, 1003, 74, 52, 1402, 911, 772, 234, 1819, 1635, 524, 500, 1722, 1231, 1792, 797, 323, 424, 1834, 136, 971, 1403, 868, 1001, 1949, 1064, 1771, 1102, 712, 672, 1918, 1197, 324, 1269, 1871, 908, 632, 332, 312, 201, 818, 1550, 166, 1887, 199, 1173, 92, 693, 979, 41, 657, 1393, 826, 417, 375, 1470, 681, 753, 1923, 1746, 1990, 1033, 607, 480, 1895, 232, 508, 863, 1401, 1080, 478, 1166, 1723, 284, 235, 1578, 1502, 1471, 991, 492, 560, 331, 1263, 1289, 1323, 1960, 341, 1530, 132, 1434, 1205, 1605, 468, 1858, 1577]\n"
     ]
    }
   ],
   "source": [
    "def wypisz_unikalne(lista: list) -> list:\n",
    "    \"\"\"\n",
    "    Wypisuje wszystkie liczby, które nie powtarzają się na liście.\n",
    "    :param list L: Lista liczb.\n",
    "    :return: Lista unikalnych liczb.\n",
    "    :rtype: list\n",
    "    \"\"\"\n",
    "    return [liczba for liczba in lista if lista.count(liczba) == 1]\n",
    "print(wypisz_unikalne(L))"
   ]
  },
  {
   "cell_type": "markdown",
   "metadata": {},
   "source": [
    "9) Wypisz wszystkie liczby, które na liście L powtarzają się dokładnie 3 razy."
   ]
  },
  {
   "cell_type": "code",
   "execution_count": 93,
   "metadata": {},
   "outputs": [
    {
     "name": "stdout",
     "output_type": "stream",
     "text": [
      "[885, 1091, 801, 885, 349, 801, 885, 1091, 801, 1091, 349, 349]\n"
     ]
    }
   ],
   "source": [
    "def wypisz_max_trzy_powtórzenia(lista: list) -> list:\n",
    "    \"\"\"\n",
    "    Wypisuje wszystkie liczby, które powtarzają się 3 razy na liście.\n",
    "    :param list lista: Lista liczb.\n",
    "    :return: Lista unikalnych liczb.\n",
    "    :rtype: list\n",
    "    \"\"\"\n",
    "    return [liczba for liczba in lista if lista.count(liczba) == 3]\n",
    "print(wypisz_max_trzy_powtórzenia(L))"
   ]
  },
  {
   "cell_type": "markdown",
   "metadata": {},
   "source": [
    "10) Wypisz wszystkie elementy listy L, umieszczając przy każdym informację, ile razy występuje na liście."
   ]
  },
  {
   "cell_type": "code",
   "execution_count": 94,
   "metadata": {},
   "outputs": [
    {
     "name": "stdout",
     "output_type": "stream",
     "text": [
      "6 wystepuje 1 razy na liscie. 15 wystepuje 1 razy na liscie. 21 wystepuje 1 razy na liscie. 36 wystepuje 1 razy na liscie. 37 wystepuje 1 razy na liscie. 41 wystepuje 1 razy na liscie. 47 wystepuje 1 razy na liscie. 48 wystepuje 1 razy na liscie. 52 wystepuje 1 razy na liscie. 57 wystepuje 1 razy na liscie. 60 wystepuje 1 razy na liscie. 61 wystepuje 1 razy na liscie. 65 wystepuje 1 razy na liscie. 67 wystepuje 1 razy na liscie. 74 wystepuje 1 razy na liscie. 75 wystepuje 1 razy na liscie. 76 wystepuje 1 razy na liscie. 90 wystepuje 1 razy na liscie. 92 wystepuje 1 razy na liscie. 96 wystepuje 2 razy na liscie. 106 wystepuje 1 razy na liscie. 108 wystepuje 1 razy na liscie. 126 wystepuje 1 razy na liscie. 128 wystepuje 1 razy na liscie. 132 wystepuje 1 razy na liscie. 136 wystepuje 1 razy na liscie. 145 wystepuje 1 razy na liscie. 147 wystepuje 1 razy na liscie. 149 wystepuje 1 razy na liscie. 153 wystepuje 1 razy na liscie. 156 wystepuje 1 razy na liscie. 159 wystepuje 2 razy na liscie. 163 wystepuje 1 razy na liscie. 166 wystepuje 1 razy na liscie. 168 wystepuje 1 razy na liscie. 169 wystepuje 2 razy na liscie. 172 wystepuje 2 razy na liscie. 174 wystepuje 1 razy na liscie. 187 wystepuje 1 razy na liscie. 189 wystepuje 1 razy na liscie. 194 wystepuje 2 razy na liscie. 198 wystepuje 1 razy na liscie. 199 wystepuje 1 razy na liscie. 201 wystepuje 1 razy na liscie. 218 wystepuje 1 razy na liscie. 223 wystepuje 1 razy na liscie. 230 wystepuje 2 razy na liscie. 232 wystepuje 1 razy na liscie. 233 wystepuje 1 razy na liscie. 234 wystepuje 1 razy na liscie. 235 wystepuje 1 razy na liscie. 239 wystepuje 1 razy na liscie. 247 wystepuje 1 razy na liscie. 250 wystepuje 1 razy na liscie. 252 wystepuje 2 razy na liscie. 256 wystepuje 1 razy na liscie. 259 wystepuje 1 razy na liscie. 260 wystepuje 1 razy na liscie. 263 wystepuje 1 razy na liscie. 269 wystepuje 1 razy na liscie. 270 wystepuje 1 razy na liscie. 271 wystepuje 1 razy na liscie. 280 wystepuje 1 razy na liscie. 283 wystepuje 2 razy na liscie. 284 wystepuje 1 razy na liscie. 288 wystepuje 1 razy na liscie. 291 wystepuje 1 razy na liscie. 308 wystepuje 1 razy na liscie. 310 wystepuje 1 razy na liscie. 312 wystepuje 1 razy na liscie. 321 wystepuje 1 razy na liscie. 323 wystepuje 1 razy na liscie. 324 wystepuje 1 razy na liscie. 327 wystepuje 1 razy na liscie. 331 wystepuje 1 razy na liscie. 332 wystepuje 1 razy na liscie. 341 wystepuje 1 razy na liscie. 345 wystepuje 1 razy na liscie. 347 wystepuje 1 razy na liscie. 349 wystepuje 3 razy na liscie. 367 wystepuje 1 razy na liscie. 371 wystepuje 1 razy na liscie. 375 wystepuje 1 razy na liscie. 380 wystepuje 1 razy na liscie. 383 wystepuje 1 razy na liscie. 384 wystepuje 2 razy na liscie. 399 wystepuje 1 razy na liscie. 402 wystepuje 1 razy na liscie. 406 wystepuje 2 razy na liscie. 410 wystepuje 2 razy na liscie. 415 wystepuje 1 razy na liscie. 417 wystepuje 1 razy na liscie. 418 wystepuje 1 razy na liscie. 420 wystepuje 1 razy na liscie. 423 wystepuje 1 razy na liscie. 424 wystepuje 1 razy na liscie. 429 wystepuje 1 razy na liscie. 433 wystepuje 2 razy na liscie. 439 wystepuje 1 razy na liscie. 450 wystepuje 1 razy na liscie. 452 wystepuje 1 razy na liscie. 459 wystepuje 1 razy na liscie. 460 wystepuje 1 razy na liscie. 468 wystepuje 1 razy na liscie. 474 wystepuje 1 razy na liscie. 477 wystepuje 1 razy na liscie. 478 wystepuje 1 razy na liscie. 480 wystepuje 1 razy na liscie. 482 wystepuje 1 razy na liscie. 483 wystepuje 1 razy na liscie. 487 wystepuje 1 razy na liscie. 492 wystepuje 1 razy na liscie. 498 wystepuje 2 razy na liscie. 500 wystepuje 1 razy na liscie. 503 wystepuje 1 razy na liscie. 505 wystepuje 1 razy na liscie. 506 wystepuje 1 razy na liscie. 507 wystepuje 2 razy na liscie. 508 wystepuje 1 razy na liscie. 510 wystepuje 1 razy na liscie. 512 wystepuje 2 razy na liscie. 524 wystepuje 1 razy na liscie. 525 wystepuje 2 razy na liscie. 526 wystepuje 1 razy na liscie. 530 wystepuje 1 razy na liscie. 532 wystepuje 1 razy na liscie. 533 wystepuje 1 razy na liscie. 536 wystepuje 1 razy na liscie. 537 wystepuje 1 razy na liscie. 546 wystepuje 1 razy na liscie. 552 wystepuje 1 razy na liscie. 558 wystepuje 1 razy na liscie. 560 wystepuje 1 razy na liscie. 562 wystepuje 2 razy na liscie. 567 wystepuje 1 razy na liscie. 572 wystepuje 1 razy na liscie. 589 wystepuje 1 razy na liscie. 605 wystepuje 2 razy na liscie. 607 wystepuje 1 razy na liscie. 610 wystepuje 1 razy na liscie. 621 wystepuje 1 razy na liscie. 632 wystepuje 1 razy na liscie. 633 wystepuje 1 razy na liscie. 639 wystepuje 1 razy na liscie. 657 wystepuje 1 razy na liscie. 661 wystepuje 2 razy na liscie. 665 wystepuje 1 razy na liscie. 667 wystepuje 2 razy na liscie. 672 wystepuje 1 razy na liscie. 678 wystepuje 2 razy na liscie. 681 wystepuje 1 razy na liscie. 685 wystepuje 1 razy na liscie. 688 wystepuje 2 razy na liscie. 693 wystepuje 1 razy na liscie. 705 wystepuje 1 razy na liscie. 712 wystepuje 1 razy na liscie. 713 wystepuje 1 razy na liscie. 726 wystepuje 2 razy na liscie. 730 wystepuje 1 razy na liscie. 737 wystepuje 1 razy na liscie. 742 wystepuje 1 razy na liscie. 753 wystepuje 1 razy na liscie. 757 wystepuje 1 razy na liscie. 764 wystepuje 2 razy na liscie. 767 wystepuje 1 razy na liscie. 772 wystepuje 1 razy na liscie. 783 wystepuje 2 razy na liscie. 789 wystepuje 1 razy na liscie. 797 wystepuje 1 razy na liscie. 798 wystepuje 1 razy na liscie. 799 wystepuje 1 razy na liscie. 801 wystepuje 3 razy na liscie. 804 wystepuje 2 razy na liscie. 807 wystepuje 1 razy na liscie. 809 wystepuje 2 razy na liscie. 810 wystepuje 1 razy na liscie. 818 wystepuje 1 razy na liscie. 820 wystepuje 1 razy na liscie. 822 wystepuje 1 razy na liscie. 826 wystepuje 1 razy na liscie. 827 wystepuje 2 razy na liscie. 835 wystepuje 1 razy na liscie. 850 wystepuje 2 razy na liscie. 860 wystepuje 1 razy na liscie. 863 wystepuje 1 razy na liscie. 866 wystepuje 1 razy na liscie. 867 wystepuje 2 razy na liscie. 868 wystepuje 1 razy na liscie. 882 wystepuje 1 razy na liscie. 883 wystepuje 1 razy na liscie. 885 wystepuje 3 razy na liscie. 889 wystepuje 1 razy na liscie. 894 wystepuje 1 razy na liscie. 898 wystepuje 1 razy na liscie. 901 wystepuje 2 razy na liscie. 902 wystepuje 1 razy na liscie. 903 wystepuje 1 razy na liscie. 906 wystepuje 1 razy na liscie. 908 wystepuje 1 razy na liscie. 911 wystepuje 1 razy na liscie. 917 wystepuje 1 razy na liscie. 922 wystepuje 1 razy na liscie. 927 wystepuje 2 razy na liscie. 929 wystepuje 1 razy na liscie. 935 wystepuje 1 razy na liscie. 937 wystepuje 1 razy na liscie. 940 wystepuje 1 razy na liscie. 945 wystepuje 1 razy na liscie. 946 wystepuje 1 razy na liscie. 949 wystepuje 1 razy na liscie. 950 wystepuje 2 razy na liscie. 962 wystepuje 1 razy na liscie. 964 wystepuje 1 razy na liscie. 969 wystepuje 2 razy na liscie. 970 wystepuje 1 razy na liscie. 971 wystepuje 1 razy na liscie. 979 wystepuje 1 razy na liscie. 982 wystepuje 1 razy na liscie. 985 wystepuje 1 razy na liscie. 991 wystepuje 1 razy na liscie. 997 wystepuje 1 razy na liscie. 1001 wystepuje 1 razy na liscie. 1003 wystepuje 1 razy na liscie. 1005 wystepuje 1 razy na liscie. 1016 wystepuje 1 razy na liscie. 1021 wystepuje 1 razy na liscie. 1029 wystepuje 1 razy na liscie. 1033 wystepuje 1 razy na liscie. 1037 wystepuje 2 razy na liscie. 1040 wystepuje 1 razy na liscie. 1061 wystepuje 1 razy na liscie. 1064 wystepuje 1 razy na liscie. 1067 wystepuje 1 razy na liscie. 1073 wystepuje 1 razy na liscie. 1079 wystepuje 1 razy na liscie. 1080 wystepuje 1 razy na liscie. 1090 wystepuje 2 razy na liscie. 1091 wystepuje 3 razy na liscie. 1094 wystepuje 1 razy na liscie. 1102 wystepuje 1 razy na liscie. 1108 wystepuje 1 razy na liscie. 1115 wystepuje 1 razy na liscie. 1118 wystepuje 1 razy na liscie. 1119 wystepuje 1 razy na liscie. 1126 wystepuje 1 razy na liscie. 1130 wystepuje 1 razy na liscie. 1141 wystepuje 1 razy na liscie. 1144 wystepuje 1 razy na liscie. 1160 wystepuje 1 razy na liscie. 1161 wystepuje 1 razy na liscie. 1166 wystepuje 1 razy na liscie. 1169 wystepuje 2 razy na liscie. 1173 wystepuje 1 razy na liscie. 1184 wystepuje 1 razy na liscie. 1185 wystepuje 1 razy na liscie. 1192 wystepuje 1 razy na liscie. 1196 wystepuje 1 razy na liscie. 1197 wystepuje 1 razy na liscie. 1201 wystepuje 2 razy na liscie. 1202 wystepuje 1 razy na liscie. 1205 wystepuje 1 razy na liscie. 1217 wystepuje 1 razy na liscie. 1224 wystepuje 2 razy na liscie. 1225 wystepuje 1 razy na liscie. 1231 wystepuje 1 razy na liscie. 1236 wystepuje 1 razy na liscie. 1237 wystepuje 2 razy na liscie. 1238 wystepuje 1 razy na liscie. 1241 wystepuje 1 razy na liscie. 1253 wystepuje 1 razy na liscie. 1256 wystepuje 1 razy na liscie. 1259 wystepuje 1 razy na liscie. 1263 wystepuje 1 razy na liscie. 1269 wystepuje 1 razy na liscie. 1282 wystepuje 1 razy na liscie. 1286 wystepuje 1 razy na liscie. 1289 wystepuje 1 razy na liscie. 1297 wystepuje 1 razy na liscie. 1299 wystepuje 1 razy na liscie. 1310 wystepuje 1 razy na liscie. 1313 wystepuje 2 razy na liscie. 1314 wystepuje 1 razy na liscie. 1321 wystepuje 2 razy na liscie. 1323 wystepuje 1 razy na liscie. 1325 wystepuje 1 razy na liscie. 1328 wystepuje 1 razy na liscie. 1333 wystepuje 1 razy na liscie. 1336 wystepuje 1 razy na liscie. 1346 wystepuje 1 razy na liscie. 1347 wystepuje 1 razy na liscie. 1349 wystepuje 2 razy na liscie. 1353 wystepuje 1 razy na liscie. 1359 wystepuje 1 razy na liscie. 1360 wystepuje 1 razy na liscie. 1370 wystepuje 1 razy na liscie. 1374 wystepuje 1 razy na liscie. 1388 wystepuje 1 razy na liscie. 1393 wystepuje 1 razy na liscie. 1401 wystepuje 1 razy na liscie. 1402 wystepuje 1 razy na liscie. 1403 wystepuje 1 razy na liscie. 1407 wystepuje 1 razy na liscie. 1408 wystepuje 1 razy na liscie. 1411 wystepuje 1 razy na liscie. 1418 wystepuje 1 razy na liscie. 1419 wystepuje 2 razy na liscie. 1425 wystepuje 1 razy na liscie. 1428 wystepuje 1 razy na liscie. 1434 wystepuje 1 razy na liscie. 1441 wystepuje 1 razy na liscie. 1444 wystepuje 1 razy na liscie. 1451 wystepuje 1 razy na liscie. 1455 wystepuje 1 razy na liscie. 1456 wystepuje 1 razy na liscie. 1460 wystepuje 1 razy na liscie. 1465 wystepuje 2 razy na liscie. 1466 wystepuje 1 razy na liscie. 1468 wystepuje 1 razy na liscie. 1470 wystepuje 1 razy na liscie. 1471 wystepuje 1 razy na liscie. 1477 wystepuje 1 razy na liscie. 1478 wystepuje 1 razy na liscie. 1487 wystepuje 1 razy na liscie. 1495 wystepuje 1 razy na liscie. 1502 wystepuje 1 razy na liscie. 1508 wystepuje 1 razy na liscie. 1514 wystepuje 1 razy na liscie. 1516 wystepuje 1 razy na liscie. 1517 wystepuje 2 razy na liscie. 1525 wystepuje 1 razy na liscie. 1530 wystepuje 1 razy na liscie. 1533 wystepuje 1 razy na liscie. 1545 wystepuje 1 razy na liscie. 1550 wystepuje 1 razy na liscie. 1553 wystepuje 1 razy na liscie. 1554 wystepuje 1 razy na liscie. 1555 wystepuje 1 razy na liscie. 1556 wystepuje 1 razy na liscie. 1569 wystepuje 1 razy na liscie. 1573 wystepuje 1 razy na liscie. 1576 wystepuje 1 razy na liscie. 1577 wystepuje 1 razy na liscie. 1578 wystepuje 1 razy na liscie. 1598 wystepuje 2 razy na liscie. 1605 wystepuje 1 razy na liscie. 1609 wystepuje 1 razy na liscie. 1610 wystepuje 2 razy na liscie. 1613 wystepuje 1 razy na liscie. 1614 wystepuje 1 razy na liscie. 1616 wystepuje 1 razy na liscie. 1620 wystepuje 2 razy na liscie. 1622 wystepuje 2 razy na liscie. 1630 wystepuje 1 razy na liscie. 1631 wystepuje 1 razy na liscie. 1635 wystepuje 1 razy na liscie. 1637 wystepuje 1 razy na liscie. 1645 wystepuje 1 razy na liscie. 1653 wystepuje 1 razy na liscie. 1676 wystepuje 1 razy na liscie. 1683 wystepuje 1 razy na liscie. 1690 wystepuje 1 razy na liscie. 1702 wystepuje 1 razy na liscie. 1710 wystepuje 1 razy na liscie. 1722 wystepuje 1 razy na liscie. 1723 wystepuje 1 razy na liscie. 1726 wystepuje 1 razy na liscie. 1736 wystepuje 1 razy na liscie. 1743 wystepuje 1 razy na liscie. 1744 wystepuje 1 razy na liscie. 1746 wystepuje 1 razy na liscie. 1749 wystepuje 1 razy na liscie. 1752 wystepuje 1 razy na liscie. 1753 wystepuje 1 razy na liscie. 1760 wystepuje 1 razy na liscie. 1766 wystepuje 2 razy na liscie. 1768 wystepuje 1 razy na liscie. 1771 wystepuje 1 razy na liscie. 1773 wystepuje 1 razy na liscie. 1777 wystepuje 1 razy na liscie. 1778 wystepuje 1 razy na liscie. 1786 wystepuje 1 razy na liscie. 1787 wystepuje 1 razy na liscie. 1792 wystepuje 1 razy na liscie. 1798 wystepuje 1 razy na liscie. 1803 wystepuje 1 razy na liscie. 1809 wystepuje 1 razy na liscie. 1811 wystepuje 1 razy na liscie. 1815 wystepuje 1 razy na liscie. 1816 wystepuje 1 razy na liscie. 1819 wystepuje 1 razy na liscie. 1827 wystepuje 2 razy na liscie. 1830 wystepuje 2 razy na liscie. 1831 wystepuje 1 razy na liscie. 1834 wystepuje 1 razy na liscie. 1835 wystepuje 1 razy na liscie. 1841 wystepuje 1 razy na liscie. 1845 wystepuje 1 razy na liscie. 1846 wystepuje 1 razy na liscie. 1853 wystepuje 1 razy na liscie. 1857 wystepuje 1 razy na liscie. 1858 wystepuje 1 razy na liscie. 1865 wystepuje 1 razy na liscie. 1866 wystepuje 1 razy na liscie. 1871 wystepuje 1 razy na liscie. 1873 wystepuje 1 razy na liscie. 1877 wystepuje 2 razy na liscie. 1879 wystepuje 1 razy na liscie. 1886 wystepuje 1 razy na liscie. 1887 wystepuje 1 razy na liscie. 1894 wystepuje 1 razy na liscie. 1895 wystepuje 1 razy na liscie. 1899 wystepuje 2 razy na liscie. 1903 wystepuje 1 razy na liscie. 1904 wystepuje 1 razy na liscie. 1911 wystepuje 1 razy na liscie. 1918 wystepuje 1 razy na liscie. 1920 wystepuje 1 razy na liscie. 1923 wystepuje 1 razy na liscie. 1928 wystepuje 1 razy na liscie. 1930 wystepuje 1 razy na liscie. 1936 wystepuje 1 razy na liscie. 1942 wystepuje 1 razy na liscie. 1949 wystepuje 1 razy na liscie. 1953 wystepuje 1 razy na liscie. 1960 wystepuje 1 razy na liscie. 1974 wystepuje 1 razy na liscie. 1976 wystepuje 1 razy na liscie. 1982 wystepuje 1 razy na liscie. 1986 wystepuje 1 razy na liscie. 1988 wystepuje 2 razy na liscie. 1990 wystepuje 1 razy na liscie. 1992 wystepuje 1 razy na liscie. 1993 wystepuje 2 razy na liscie. 1998 wystepuje 1 razy na liscie. 1999 wystepuje 1 razy na liscie.\n"
     ]
    }
   ],
   "source": [
    "def wypisz_wystapienia(lista: list) -> Generator:\n",
    "    \"\"\"\n",
    "    Wypisuje elementy listy wraz z ich liczebnością.\n",
    "    :param list lista: lista do wypisania\n",
    "    :return: None\n",
    "    :rtype: Generator\n",
    "    \"\"\"\n",
    "    yield from (f\"{element} wystepuje {lista.count(element)} razy na liscie.\" for element in set(lista))\n",
    "print(*wypisz_wystapienia(L))"
   ]
  },
  {
   "cell_type": "markdown",
   "metadata": {},
   "source": [
    "11) Z listy L wypisz wszystkie liczby, które zawierają w sobie liczbę 13. Np. 13, 113, 139."
   ]
  },
  {
   "cell_type": "code",
   "execution_count": 95,
   "metadata": {},
   "outputs": [
    {
     "name": "stdout",
     "output_type": "stream",
     "text": [
      "[1313, 1130, 1353, 1321, 1313, 1325, 1314, 1321, 1370, 1388, 1333, 1336, 1310, 1374, 1349, 1328, 1359, 1347, 1360, 1613, 713, 1346, 1349, 136, 1393, 1323, 132]\n"
     ]
    }
   ],
   "source": [
    "def liczby_zawierajace_13(lista: list) -> list:\n",
    "    \"\"\"\n",
    "    Zwraca listę liczb z listy, które zawierają w sobie liczbę 13.\n",
    "    :param list lista: Lista liczb.\n",
    "    :return: Lista liczb zawierających liczbę 13.\n",
    "    :rtype: list\n",
    "    \"\"\"\n",
    "    return [liczba for liczba in L if '13' in str(liczba)]\n",
    "print(liczby_zawierajace_13(L))"
   ]
  },
  {
   "cell_type": "markdown",
   "metadata": {},
   "source": [
    "12) Oblicz ile liczb na liście L jest mniejszych od 500."
   ]
  },
  {
   "cell_type": "code",
   "execution_count": 96,
   "metadata": {},
   "outputs": [
    {
     "name": "stdout",
     "output_type": "stream",
     "text": [
      "128\n"
     ]
    }
   ],
   "source": [
    "def ile_mniejszych_od_500(lista: list) -> int:\n",
    "    \"\"\"\n",
    "    Oblicza ile liczb na liście są mniejsze od 500.\n",
    "    :param list lista: Lista liczb.\n",
    "    :return: Liczba liczb mniejszych od 500.\n",
    "    :rtype: int\n",
    "    \"\"\"\n",
    "    return sum(liczba < 500 for liczba in lista)\n",
    "print(ile_mniejszych_od_500(L))"
   ]
  },
  {
   "cell_type": "markdown",
   "metadata": {},
   "source": [
    "13) Wypisz 3 najmniejsze i 3 największe elementy listy L."
   ]
  },
  {
   "cell_type": "code",
   "execution_count": 97,
   "metadata": {},
   "outputs": [
    {
     "name": "stdout",
     "output_type": "stream",
     "text": [
      "(('Trzy najmniejsze elementy:', [6, 15, 21]), ('Trzy największe elementy:', [1993, 1998, 1999]))\n"
     ]
    }
   ],
   "source": [
    "def wypisz_min_i_max(lista: list) -> tuple[tuple[str, list[int, ..., int]], ...]:\n",
    "    \"\"\"\n",
    "    Wypisuje 3 najmniejsze i 3 największe elementy listy.\n",
    "    :param list lista: Lista liczb.\n",
    "    :return: Zwraca 3 najmniejsze i 3 największe elementy.\n",
    "    :rtype: tuple[tuple[str, list[int, ..., int]], ...]\n",
    "    \"\"\"\n",
    "    return(\"Trzy najmniejsze elementy:\", sorted(lista)[:3]), (\"Trzy największe elementy:\", sorted(lista)[-3:])\n",
    "print(wypisz_min_i_max(L))"
   ]
  },
  {
   "cell_type": "markdown",
   "metadata": {},
   "source": [
    "14) Usuń z listy L duplikaty i policz ile pozostało na niej liczb."
   ]
  },
  {
   "cell_type": "code",
   "execution_count": 98,
   "metadata": {},
   "outputs": [
    {
     "name": "stdout",
     "output_type": "stream",
     "text": [
      "435\n"
     ]
    }
   ],
   "source": [
    "def usun_duplikaty(lista: list) -> list:\n",
    "    \"\"\"\n",
    "    Usuwa z listy L duplikaty i zwraca liczbę pozostałych elementów.\n",
    "    :param list L: Lista elementów.\n",
    "    :return: Liczba pozostałych elementów po usunięciu duplikatów.\n",
    "    :rtype: int\n",
    "    \"\"\"\n",
    "    return len(set(lista))\n",
    "print(usun_duplikaty(L))"
   ]
  },
  {
   "cell_type": "markdown",
   "metadata": {},
   "source": [
    "15) Wymieszaj elementy listy L. Wypisz na ekranie elementy listy przed i po ich wymieszaniu."
   ]
  },
  {
   "cell_type": "code",
   "execution_count": 99,
   "metadata": {},
   "outputs": [
    {
     "name": "stdout",
     "output_type": "stream",
     "text": [
      "([1609, 737, 1899, 1811, 1620, 940, 223, 1487, 1988, 1749, 850, 885, 1752, 1753, 1094, 1610, 1313, 1637, 1622, 1982, 194, 283, 402, 906, 526, 128, 239, 1130, 1419, 308, 1614, 950, 1067, 1444, 1702, 67, 380, 789, 639, 937, 347, 1091, 969, 1079, 801, 1115, 901, 558, 168, 1835, 1185, 1815, 667, 189, 661, 1353, 661, 1021, 1321, 562, 533, 678, 1313, 621, 1555, 1803, 950, 418, 1040, 482, 835, 1238, 807, 885, 349, 525, 61, 1873, 532, 283, 1460, 1853, 153, 1556, 406, 1830, 1325, 1622, 1282, 6, 1314, 459, 530, 1161, 1974, 1768, 1930, 866, 949, 567, 1169, 902, 1598, 1809, 1321, 898, 1005, 982, 1846, 894, 47, 198, 1407, 767, 1553, 149, 450, 345, 498, 935, 433, 1879, 1911, 503, 498, 685, 159, 1778, 269, 1830, 1816, 1253, 1573, 327, 288, 536, 271, 126, 1998, 159, 1119, 688, 1370, 1766, 1690, 1676, 1090, 163, 1160, 985, 927, 1201, 883, 1425, 1631, 36, 1630, 423, 922, 1798, 452, 1428, 247, 820, 552, 1517, 1928, 1877, 230, 1016, 106, 21, 1411, 1545, 1456, 804, 1517, 1936, 60, 1569, 1620, 1388, 371, 946, 605, 507, 889, 665, 429, 1037, 809, 667, 1333, 1090, 65, 487, 1610, 37, 384, 610, 1942, 1514, 1533, 1336, 415, 406, 1237, 1259, 783, 1073, 1773, 1736, 901, 439, 1201, 174, 367, 48, 1224, 1865, 1126, 1196, 1525, 1845, 1554, 507, 1598, 1441, 1787, 75, 929, 1310, 801, 860, 270, 76, 1786, 1993, 410, 187, 798, 1683, 1993, 799, 512, 810, 1286, 1710, 885, 145, 259, 250, 964, 169, 1108, 512, 1478, 1408, 1477, 783, 1374, 1653, 280, 927, 1169, 291, 1236, 1508, 1920, 605, 537, 962, 1225, 1349, 1202, 506, 1029, 260, 1857, 822, 757, 1831, 730, 882, 1328, 1726, 233, 1744, 589, 827, 1841, 1616, 1645, 505, 1988, 321, 460, 1866, 90, 1455, 1999, 1451, 1237, 572, 867, 1091, 633, 1144, 1877, 1468, 742, 1359, 970, 903, 1894, 252, 172, 1886, 1777, 726, 1347, 256, 477, 945, 483, 420, 917, 1360, 384, 1953, 1903, 510, 147, 764, 399, 705, 1613, 474, 96, 801, 713, 1760, 252, 678, 156, 1118, 1576, 433, 1061, 263, 1418, 997, 1217, 1184, 1299, 1256, 218, 1976, 1904, 1192, 57, 1986, 1346, 850, 1349, 867, 1241, 1091, 827, 383, 1297, 546, 1495, 1899, 310, 1743, 1516, 1037, 15, 108, 1466, 349, 1141, 764, 1992, 1003, 74, 52, 1402, 911, 772, 234, 1819, 1635, 524, 410, 726, 500, 1722, 1827, 1231, 1792, 797, 1224, 323, 424, 1834, 136, 971, 1403, 868, 1001, 1949, 1064, 1771, 1102, 969, 712, 672, 1918, 1827, 1197, 324, 1269, 688, 1871, 908, 632, 332, 312, 201, 562, 96, 818, 1550, 166, 1887, 199, 1173, 92, 693, 979, 41, 657, 1393, 826, 417, 375, 230, 1470, 681, 753, 1465, 1923, 1746, 1990, 1033, 1766, 607, 480, 1895, 232, 508, 809, 863, 1401, 1080, 478, 1166, 1723, 284, 235, 169, 349, 1578, 1502, 1471, 991, 492, 1465, 560, 331, 1263, 194, 525, 1289, 1323, 1960, 341, 1530, 132, 804, 1434, 1205, 1605, 1419, 468, 172, 1858, 1577], [889, 1953, 1809, 1465, 250, 36, 1360, 1787, 1605, 1830, 1328, 1819, 375, 532, 1930, 753, 1169, 149, 1434, 605, 174, 1834, 507, 726, 1530, 1690, 1777, 1613, 783, 57, 1408, 1003, 1388, 269, 1224, 90, 478, 1514, 742, 166, 1610, 730, 546, 159, 450, 1067, 1144, 468, 820, 991, 1899, 678, 1753, 885, 898, 863, 239, 1037, 263, 1029, 678, 1005, 911, 946, 1992, 1231, 1710, 1349, 1419, 1313, 247, 1928, 1622, 798, 1173, 48, 1516, 1428, 280, 1269, 1073, 562, 672, 639, 657, 537, 477, 1197, 1091, 1545, 1871, 1620, 1441, 1766, 288, 804, 1904, 1237, 1325, 15, 1857, 75, 979, 799, 331, 902, 827, 1236, 1040, 1477, 367, 949, 156, 1736, 885, 867, 917, 1487, 1988, 1676, 474, 1102, 172, 797, 270, 1610, 1411, 1752, 510, 1988, 1418, 108, 1577, 927, 433, 199, 610, 713, 324, 1021, 21, 201, 1185, 1407, 536, 1517, 866, 1982, 159, 1637, 1061, 1622, 452, 810, 1289, 1635, 1845, 665, 997, 605, 1879, 632, 1321, 809, 1241, 1196, 1374, 969, 908, 1653, 1016, 971, 1001, 1299, 1786, 929, 1253, 52, 883, 525, 524, 323, 1886, 439, 945, 1403, 1830, 271, 503, 906, 935, 1201, 1455, 345, 1470, 969, 1064, 252, 1865, 1533, 252, 894, 1960, 1310, 1936, 74, 1169, 1502, 429, 230, 126, 1456, 737, 1353, 1451, 572, 726, 415, 633, 1471, 1090, 380, 168, 1321, 417, 757, 1478, 6, 1466, 712, 1576, 283, 1465, 433, 1743, 260, 1831, 424, 106, 688, 384, 1746, 526, 1702, 764, 903, 1238, 383, 498, 764, 1091, 950, 1846, 1744, 194, 783, 37, 1336, 1184, 607, 827, 136, 1080, 667, 1999, 1771, 1313, 61, 312, 508, 410, 1598, 96, 1993, 1346, 1259, 688, 60, 1555, 1768, 525, 1359, 1631, 1130, 1877, 1556, 1614, 418, 560, 927, 867, 809, 1297, 661, 310, 194, 128, 1166, 1811, 1525, 327, 1037, 1949, 145, 621, 500, 1402, 230, 1370, 1942, 1815, 562, 1726, 850, 223, 1286, 1349, 291, 402, 530, 885, 1760, 259, 868, 1160, 1749, 1976, 506, 187, 1090, 801, 480, 256, 341, 1333, 1887, 589, 1798, 1827, 835, 347, 232, 860, 1033, 349, 950, 685, 65, 1835, 420, 1803, 1425, 1314, 172, 349, 1108, 163, 681, 533, 1517, 76, 1460, 1866, 1323, 332, 1990, 693, 1858, 1895, 1444, 498, 1217, 567, 482, 460, 1598, 1722, 406, 349, 198, 1578, 92, 1553, 410, 1401, 804, 1609, 169, 1903, 1645, 1495, 1094, 406, 1224, 1141, 1079, 512, 308, 1766, 399, 189, 1899, 1853, 371, 1993, 1792, 882, 1816, 1550, 234, 153, 922, 767, 1237, 1263, 1115, 661, 283, 901, 459, 801, 505, 807, 982, 1986, 970, 284, 552, 507, 1778, 96, 1998, 1911, 1616, 1873, 41, 235, 1773, 1347, 321, 1119, 850, 937, 1282, 962, 818, 1683, 423, 233, 1126, 1508, 705, 789, 667, 1923, 384, 1569, 1723, 1554, 1630, 1620, 67, 492, 772, 901, 1201, 1225, 985, 1419, 483, 1920, 801, 822, 826, 1468, 1256, 512, 1974, 169, 1161, 964, 1393, 1205, 1573, 1091, 47, 487, 1894, 218, 1877, 147, 1918, 1827, 1202, 558, 1192, 1841, 132, 940, 1118])\n"
     ]
    }
   ],
   "source": [
    "def wymieszaj(lista: list) -> tuple[list, list]:\n",
    "    \"\"\"\n",
    "    Wymiesza elementy listy.\n",
    "\n",
    "    :param list lista: Lista elementów do wymieszania.\n",
    "    :return: Krotka z dwoma listami - oryginalna lista i lista pomieszana.\n",
    "    :rtype: tuple[list, list]\n",
    "    \"\"\"\n",
    "    return lista, sample(lista, len(lista))\n",
    "print(wymieszaj(L))"
   ]
  },
  {
   "cell_type": "markdown",
   "metadata": {},
   "source": [
    "16) Oblicz ile jest elementów listy L, których wartość mieści się w przedziale [a,b]. Wartości a i b podaje użytkownik."
   ]
  },
  {
   "cell_type": "code",
   "execution_count": 100,
   "metadata": {},
   "outputs": [
    {
     "name": "stdout",
     "output_type": "stream",
     "text": [
      "133\n"
     ]
    }
   ],
   "source": [
    "def ile_elementów_w_przedziale(lista: list, a: int, b: int) -> int:\n",
    "    \"\"\"\n",
    "    Zwraca liczbę elementów listy L, których wartość mieści się w przedziale [a,b].\n",
    "    :param list lista: lista liczb\n",
    "    :param int a: dolna granica przedziału\n",
    "    :param int b: górna granica przedziału\n",
    "    :return: liczba elementów listy w przedziale [a,b]\n",
    "    :rtype: int\n",
    "    \"\"\"\n",
    "    return len([x for x in L if a <= x <= b])\n",
    "print(ile_elementów_w_przedziale(L, 500, 1000))"
   ]
  },
  {
   "cell_type": "markdown",
   "metadata": {},
   "source": [
    "17) Oblicz ile jest elementów listy L, których wartość jest nieparzysta."
   ]
  },
  {
   "cell_type": "code",
   "execution_count": 101,
   "metadata": {},
   "outputs": [
    {
     "name": "stdout",
     "output_type": "stream",
     "text": [
      "260\n"
     ]
    }
   ],
   "source": [
    "def liczba_nieparzystych(lista: list) -> int:\n",
    "    \"\"\"\n",
    "    Oblicza ile jest elementów listy, których wartość jest nieparzysta.\n",
    "    :param list lista: Lista elementów do sprawdzenia.\n",
    "    :return: Liczba elementów o nieparzystej wartości.\n",
    "    :rtype: int\n",
    "    \"\"\"\n",
    "    return len([elem for elem in lista if elem % 2 != 0])\n",
    "print(liczba_nieparzystych(L))"
   ]
  },
  {
   "cell_type": "markdown",
   "metadata": {},
   "source": [
    "18) Przenieś wszystkie elementy parzyste listy L posegregowane od najmniejszego na lewą stronę listy, natomiast nieparzyste posegregowane nierosnąco na prawą. Np. [3,2,1,4,7,8,5,4] -> [2,4,4,8,7,5,3,1]"
   ]
  },
  {
   "cell_type": "code",
   "execution_count": 102,
   "metadata": {},
   "outputs": [
    {
     "name": "stdout",
     "output_type": "stream",
     "text": [
      "[6, 36, 48, 52, 60, 74, 76, 90, 92, 96, 96, 106, 108, 126, 128, 132, 136, 156, 166, 168, 172, 172, 174, 194, 194, 198, 218, 230, 230, 232, 234, 250, 252, 252, 256, 260, 270, 280, 284, 288, 308, 310, 312, 324, 332, 380, 384, 384, 402, 406, 406, 410, 410, 418, 420, 424, 450, 452, 460, 468, 474, 478, 480, 482, 492, 498, 498, 500, 506, 508, 510, 512, 512, 524, 526, 530, 532, 536, 546, 552, 558, 560, 562, 562, 572, 610, 632, 672, 678, 678, 688, 688, 712, 726, 726, 730, 742, 764, 764, 772, 798, 804, 804, 810, 818, 820, 822, 826, 850, 850, 860, 866, 868, 882, 894, 898, 902, 906, 908, 922, 940, 946, 950, 950, 962, 964, 970, 982, 1016, 1040, 1064, 1080, 1090, 1090, 1094, 1102, 1108, 1118, 1126, 1130, 1144, 1160, 1166, 1184, 1192, 1196, 1202, 1224, 1224, 1236, 1238, 1256, 1282, 1286, 1310, 1314, 1328, 1336, 1346, 1360, 1370, 1374, 1388, 1402, 1408, 1418, 1428, 1434, 1444, 1456, 1460, 1466, 1468, 1470, 1478, 1502, 1508, 1514, 1516, 1530, 1550, 1554, 1556, 1576, 1578, 1598, 1598, 1610, 1610, 1614, 1616, 1620, 1620, 1622, 1622, 1630, 1676, 1690, 1702, 1710, 1722, 1726, 1736, 1744, 1746, 1752, 1760, 1766, 1766, 1768, 1778, 1786, 1792, 1798, 1816, 1830, 1830, 1834, 1846, 1858, 1866, 1886, 1894, 1904, 1918, 1920, 1928, 1930, 1936, 1942, 1960, 1974, 1976, 1982, 1986, 1988, 1988, 1990, 1992, 1998, 1999, 1993, 1993, 1953, 1949, 1923, 1911, 1903, 1899, 1899, 1895, 1887, 1879, 1877, 1877, 1873, 1871, 1865, 1857, 1853, 1845, 1841, 1835, 1831, 1827, 1827, 1819, 1815, 1811, 1809, 1803, 1787, 1777, 1773, 1771, 1753, 1749, 1743, 1723, 1683, 1653, 1645, 1637, 1635, 1631, 1613, 1609, 1605, 1577, 1573, 1569, 1555, 1553, 1545, 1533, 1525, 1517, 1517, 1495, 1487, 1477, 1471, 1465, 1465, 1455, 1451, 1441, 1425, 1419, 1419, 1411, 1407, 1403, 1401, 1393, 1359, 1353, 1349, 1349, 1347, 1333, 1325, 1323, 1321, 1321, 1313, 1313, 1299, 1297, 1289, 1269, 1263, 1259, 1253, 1241, 1237, 1237, 1231, 1225, 1217, 1205, 1201, 1201, 1197, 1185, 1173, 1169, 1169, 1161, 1141, 1119, 1115, 1091, 1091, 1091, 1079, 1073, 1067, 1061, 1037, 1037, 1033, 1029, 1021, 1005, 1003, 1001, 997, 991, 985, 979, 971, 969, 969, 949, 945, 937, 935, 929, 927, 927, 917, 911, 903, 901, 901, 889, 885, 885, 885, 883, 867, 867, 863, 835, 827, 827, 809, 809, 807, 801, 801, 801, 799, 797, 789, 783, 783, 767, 757, 753, 737, 713, 705, 693, 685, 681, 667, 667, 665, 661, 661, 657, 639, 633, 621, 607, 605, 605, 589, 567, 537, 533, 525, 525, 507, 507, 505, 503, 487, 483, 477, 459, 439, 433, 433, 429, 423, 417, 415, 399, 383, 375, 371, 367, 349, 349, 349, 347, 345, 341, 331, 327, 323, 321, 291, 283, 283, 271, 269, 263, 259, 247, 239, 235, 233, 223, 201, 199, 189, 187, 169, 169, 163, 159, 159, 153, 149, 147, 145, 75, 67, 65, 61, 57, 47, 41, 37, 21, 15]\n"
     ]
    }
   ],
   "source": [
    "def przenies_elementy(lista: list) -> list:\n",
    "    \"\"\"\n",
    "    Przenosi elementy parzyste na lewą stronę, a nieparzyste na prawą, w kolejności rosnącej i nierosnącej.\n",
    "    :param list lista: lista do przetworzenia\n",
    "    :return: lista z elementami parzystymi na lewej i nieparzystymi na prawej.\n",
    "    :rtype: list\n",
    "    \"\"\"\n",
    "    return sorted([i for i in lista if i%2 == 0]) + sorted([i for i in lista if i%2 != 0], reverse=True)\n",
    "print(przenies_elementy(L))"
   ]
  },
  {
   "cell_type": "markdown",
   "metadata": {},
   "source": [
    "19) Przekonwertuj wszystkie elementy listy L z int na string."
   ]
  },
  {
   "cell_type": "code",
   "execution_count": 103,
   "metadata": {},
   "outputs": [
    {
     "name": "stdout",
     "output_type": "stream",
     "text": [
      "['1609', '737', '1899', '1811', '1620', '940', '223', '1487', '1988', '1749', '850', '885', '1752', '1753', '1094', '1610', '1313', '1637', '1622', '1982', '194', '283', '402', '906', '526', '128', '239', '1130', '1419', '308', '1614', '950', '1067', '1444', '1702', '67', '380', '789', '639', '937', '347', '1091', '969', '1079', '801', '1115', '901', '558', '168', '1835', '1185', '1815', '667', '189', '661', '1353', '661', '1021', '1321', '562', '533', '678', '1313', '621', '1555', '1803', '950', '418', '1040', '482', '835', '1238', '807', '885', '349', '525', '61', '1873', '532', '283', '1460', '1853', '153', '1556', '406', '1830', '1325', '1622', '1282', '6', '1314', '459', '530', '1161', '1974', '1768', '1930', '866', '949', '567', '1169', '902', '1598', '1809', '1321', '898', '1005', '982', '1846', '894', '47', '198', '1407', '767', '1553', '149', '450', '345', '498', '935', '433', '1879', '1911', '503', '498', '685', '159', '1778', '269', '1830', '1816', '1253', '1573', '327', '288', '536', '271', '126', '1998', '159', '1119', '688', '1370', '1766', '1690', '1676', '1090', '163', '1160', '985', '927', '1201', '883', '1425', '1631', '36', '1630', '423', '922', '1798', '452', '1428', '247', '820', '552', '1517', '1928', '1877', '230', '1016', '106', '21', '1411', '1545', '1456', '804', '1517', '1936', '60', '1569', '1620', '1388', '371', '946', '605', '507', '889', '665', '429', '1037', '809', '667', '1333', '1090', '65', '487', '1610', '37', '384', '610', '1942', '1514', '1533', '1336', '415', '406', '1237', '1259', '783', '1073', '1773', '1736', '901', '439', '1201', '174', '367', '48', '1224', '1865', '1126', '1196', '1525', '1845', '1554', '507', '1598', '1441', '1787', '75', '929', '1310', '801', '860', '270', '76', '1786', '1993', '410', '187', '798', '1683', '1993', '799', '512', '810', '1286', '1710', '885', '145', '259', '250', '964', '169', '1108', '512', '1478', '1408', '1477', '783', '1374', '1653', '280', '927', '1169', '291', '1236', '1508', '1920', '605', '537', '962', '1225', '1349', '1202', '506', '1029', '260', '1857', '822', '757', '1831', '730', '882', '1328', '1726', '233', '1744', '589', '827', '1841', '1616', '1645', '505', '1988', '321', '460', '1866', '90', '1455', '1999', '1451', '1237', '572', '867', '1091', '633', '1144', '1877', '1468', '742', '1359', '970', '903', '1894', '252', '172', '1886', '1777', '726', '1347', '256', '477', '945', '483', '420', '917', '1360', '384', '1953', '1903', '510', '147', '764', '399', '705', '1613', '474', '96', '801', '713', '1760', '252', '678', '156', '1118', '1576', '433', '1061', '263', '1418', '997', '1217', '1184', '1299', '1256', '218', '1976', '1904', '1192', '57', '1986', '1346', '850', '1349', '867', '1241', '1091', '827', '383', '1297', '546', '1495', '1899', '310', '1743', '1516', '1037', '15', '108', '1466', '349', '1141', '764', '1992', '1003', '74', '52', '1402', '911', '772', '234', '1819', '1635', '524', '410', '726', '500', '1722', '1827', '1231', '1792', '797', '1224', '323', '424', '1834', '136', '971', '1403', '868', '1001', '1949', '1064', '1771', '1102', '969', '712', '672', '1918', '1827', '1197', '324', '1269', '688', '1871', '908', '632', '332', '312', '201', '562', '96', '818', '1550', '166', '1887', '199', '1173', '92', '693', '979', '41', '657', '1393', '826', '417', '375', '230', '1470', '681', '753', '1465', '1923', '1746', '1990', '1033', '1766', '607', '480', '1895', '232', '508', '809', '863', '1401', '1080', '478', '1166', '1723', '284', '235', '169', '349', '1578', '1502', '1471', '991', '492', '1465', '560', '331', '1263', '194', '525', '1289', '1323', '1960', '341', '1530', '132', '804', '1434', '1205', '1605', '1419', '468', '172', '1858', '1577']\n"
     ]
    }
   ],
   "source": [
    "def przekonwertuj_na_string(lista: list) -> list:\n",
    "    \"\"\"\n",
    "    Konwertuje wszystkie elementy listy z int na string.\n",
    "    :param list lista: Lista elementów do konwersji.\n",
    "    :return: Lista skonwertowanych elementów.\n",
    "    :rtype: list\n",
    "    \"\"\"\n",
    "    return [str(i) for i in lista]\n",
    "print(przekonwertuj_na_string(L))"
   ]
  },
  {
   "cell_type": "markdown",
   "metadata": {},
   "source": [
    "20) Utwórz liczbę składającą się ze wszystkich elementów listy L. Np. [1,35,9] -> 1359"
   ]
  },
  {
   "cell_type": "code",
   "execution_count": 104,
   "metadata": {},
   "outputs": [
    {
     "name": "stdout",
     "output_type": "stream",
     "text": [
      "1609737189918111620940223148719881749850885175217531094161013131637162219821942834029065261282391130141930816149501067144417026738078963993734710919691079801111590155816818351185181566718966113536611021132156253367813136211555180395041810404828351238807885349525611873532283146018531531556406183013251622128261314459530116119741768193086694956711699021598180913218981005982184689447198140776715531494503454989354331879191150349868515917782691830181612531573327288536271126199815911196881370176616901676109016311609859271201883142516313616304239221798452142824782055215171928187723010161062114111545145680415171936601569162013883719466055078896654291037809667133310906548716103738461019421514153313364154061237125978310731773173690143912011743674812241865112611961525184515545071598144117877592913108018602707617861993410187798168319937995128101286171088514525925096416911085121478140814777831374165328092711692911236150819206055379621225134912025061029260185782275718317308821328172623317445898271841161616455051988321460186690145519991451123757286710916331144187714687421359970903189425217218861777726134725647794548342091713603841953190351014776439970516134749680171317602526781561118157643310612631418997121711841299125621819761904119257198613468501349867124110918273831297546149518993101743151610371510814663491141764199210037452140291177223418191635524410726500172218271231179279712243234241834136971140386810011949106417711102969712672191818271197324126968818719086323323122015629681815501661887199117392693979416571393826417375230147068175314651923174619901033176660748018952325088098631401108047811661723284235169349157815021471991492146556033112631945251289132319603411530132804143412051605141946817218581577\n"
     ]
    }
   ],
   "source": [
    "def scal_liste_w_liczbe(lista: list) -> int:\n",
    "    \"\"\"\n",
    "    Tworzy liczbę składającą się ze wszystkich elementów listy.\n",
    "    :param list lista: Lista liczb.\n",
    "    :return: Liczba utworzona z elementów listy.\n",
    "    :rtype: int\n",
    "    \"\"\"\n",
    "    return int(''.join(map(str, lista)))\n",
    "print(scal_liste_w_liczbe(L))"
   ]
  },
  {
   "cell_type": "markdown",
   "metadata": {},
   "source": [
    "**Dana jest n-elementowa lista M składająca się z ciągów znakowych o długości od 1 do d. \n",
    "Wartości n oraz d podaje użytkownik. Np. n = 4, d = 6, przykładowa lista: ['abdrty','wsb','q','pwsz'].**"
   ]
  },
  {
   "cell_type": "code",
   "execution_count": 105,
   "metadata": {},
   "outputs": [
    {
     "name": "stdout",
     "output_type": "stream",
     "text": [
      "n=4\n",
      "d=7\n",
      "M = ['r', 'o', 'zwuhkbt', 'mvfs']\n"
     ]
    }
   ],
   "source": [
    "import random\n",
    "import string\n",
    "M=[]\n",
    "n=int(input(\"n=\"))\n",
    "d=int(input(\"d=\"))\n",
    "for i in range(n):\n",
    "    M.append(''.join( random.choice(string.ascii_lowercase) for _ in range(random.randint(1,d)) ))\n",
    "print(\"M =\",M)"
   ]
  },
  {
   "cell_type": "markdown",
   "metadata": {},
   "source": [
    "21) Oblicz ile znaków zawiera lista M."
   ]
  },
  {
   "cell_type": "code",
   "execution_count": 106,
   "metadata": {},
   "outputs": [
    {
     "name": "stdout",
     "output_type": "stream",
     "text": [
      "13\n"
     ]
    }
   ],
   "source": [
    "def oblicz_ilosc_znakow(lista: list) -> int:\n",
    "    \"\"\"\n",
    "    Oblicza ilość znaków w liście ciągów znakowych.\n",
    "    :param list lista: Lista ciągów znakowych.\n",
    "    :return: Ilość znaków w liście.\n",
    "    :rtype: int\n",
    "    \"\"\"\n",
    "    return sum(len(element) for element in lista)\n",
    "print(oblicz_ilosc_znakow(M))"
   ]
  },
  {
   "cell_type": "markdown",
   "metadata": {},
   "source": [
    "22 ) Oblicz ile liter 'w' zawiera lista M."
   ]
  },
  {
   "cell_type": "code",
   "execution_count": 107,
   "metadata": {},
   "outputs": [
    {
     "name": "stdout",
     "output_type": "stream",
     "text": [
      "1\n"
     ]
    }
   ],
   "source": [
    "def oblicz_ilosc_w(lista: list) -> int:\n",
    "    \"\"\"\n",
    "    Funkcja obliczająca ile liter 'w' zawiera listę ciągów znakowych.\n",
    "    :param list lista: Lista ciągów znakowych.\n",
    "    :return: Liczba wystąpień litery 'w'.\n",
    "    :rtype: int\n",
    "    \"\"\"\n",
    "    return sum(element.count('w') for element in lista)\n",
    "print(oblicz_ilosc_w(M))"
   ]
  },
  {
   "cell_type": "markdown",
   "metadata": {},
   "source": [
    "23) Oblicz ile ciągów znaków 'je' zawiera lista M."
   ]
  },
  {
   "cell_type": "code",
   "execution_count": 108,
   "metadata": {},
   "outputs": [
    {
     "name": "stdout",
     "output_type": "stream",
     "text": [
      "0\n"
     ]
    }
   ],
   "source": [
    "def oblicz_ilosc_je(lista: list) -> int:\n",
    "    \"\"\"\n",
    "    Oblicza ile ciągów znaków 'je' zawiera lista M.\n",
    "    :param list lista: Lista ciągów znakowych.\n",
    "    :return: Liczba ciągów zawierających 'je'.\n",
    "    :rtype: int\n",
    "    \"\"\"\n",
    "    return sum('je' in element for element in M)\n",
    "print(oblicz_ilosc_je(M))"
   ]
  },
  {
   "cell_type": "markdown",
   "metadata": {},
   "source": [
    "24) Oblicz ile ciągów znaków dłuższych niż s zawiera lista M. Wartość s wczytaj od użytkownika."
   ]
  },
  {
   "cell_type": "code",
   "execution_count": 109,
   "metadata": {},
   "outputs": [
    {
     "name": "stdout",
     "output_type": "stream",
     "text": [
      "1\n"
     ]
    }
   ],
   "source": [
    "def oblicz_ile_dluzszych_ciagow(lista: list, s: int) -> int:\n",
    "    \"\"\"\n",
    "    Zlicza ile ciągów znaków w liście jest dłuższych niż s.\n",
    "    :param list lista: Lista ciągów znaków.\n",
    "    :param int s: Minimalna długość ciągu, którego szukamy w liście.\n",
    "    :return: Liczba ciągów znaków w liście dłuższych niż s.\n",
    "    :rtype: int\n",
    "    \"\"\"\n",
    "    return sum(1 for i in lista if len(i) > s)\n",
    "print(oblicz_ile_dluzszych_ciagow(M, 5))"
   ]
  },
  {
   "cell_type": "markdown",
   "metadata": {},
   "source": [
    "25) Na początku każdego elementu listy M dodaj literę 'a', a na końcu literę 'z'. Np. ['wry','eetyw','x'] -> ['awryz','aeetywz','axz']"
   ]
  },
  {
   "cell_type": "code",
   "execution_count": 110,
   "metadata": {},
   "outputs": [
    {
     "name": "stdout",
     "output_type": "stream",
     "text": [
      "['arz', 'aoz', 'azwuhkbtz', 'amvfsz']\n"
     ]
    }
   ],
   "source": [
    "def dodaj_litery_do_listy(lista: list) -> list:\n",
    "    \"\"\"\n",
    "    Dodaje litery 'a' na początku i 'z' na końcu każdego elementu listy.\n",
    "    :param list lista: lista ciągów znakowych\n",
    "    :return: lista z dodanymi literami 'a' i 'z'\n",
    "    :rtype: list\n",
    "    \"\"\"\n",
    "    return ['a'+s+'z' for s in lista]\n",
    "print(dodaj_litery_do_listy(M))"
   ]
  },
  {
   "cell_type": "markdown",
   "metadata": {},
   "source": [
    "26) Każdy element listy M zastąp podlistą znaków składającą się ze wszystkich znaków zastępowanego elementu. Np. ['wry','eetyw','x'] -> [['w','r','y'],['e','e','t','y','w'],['x']]"
   ]
  },
  {
   "cell_type": "code",
   "execution_count": 111,
   "metadata": {},
   "outputs": [
    {
     "data": {
      "text/plain": [
       "[['r'], ['o'], ['z', 'w', 'u', 'h', 'k', 'b', 't'], ['m', 'v', 'f', 's']]"
      ]
     },
     "execution_count": 111,
     "metadata": {},
     "output_type": "execute_result"
    }
   ],
   "source": [
    "def zastap_element_listy_podlista(lista: list) -> list[list[str,...,str],...,list[str,...,str]]:\n",
    "    \"\"\"\n",
    "    Zamienia każdy element listy M na listę składającą się z podlist znaków,\n",
    "    gdzie każda podlista składa się ze wszystkich znaków zastępowanego elementu.\n",
    "    :param list M: Lista ciągów znakowych.\n",
    "    :return: Lista list znaków.\n",
    "    :rtype: list[list[str,...,str],...,list[str,...,str]]\n",
    "    \"\"\"\n",
    "    return [list(element) for element in lista]\n",
    "zastap_element_listy_podlista(M)"
   ]
  },
  {
   "cell_type": "markdown",
   "metadata": {},
   "source": [
    "### Zadania ze słowników"
   ]
  },
  {
   "cell_type": "code",
   "execution_count": 112,
   "metadata": {},
   "outputs": [
    {
     "name": "stdout",
     "output_type": "stream",
     "text": [
      "klucz: 1000\n",
      "klucz: 900\n",
      "klucz: 500\n",
      "klucz: 400\n",
      "klucz: 100\n",
      "klucz: 90\n",
      "klucz: 50\n",
      "klucz: 40\n",
      "klucz: 10\n",
      "klucz: 9\n",
      "klucz: 5\n",
      "klucz: 4\n",
      "klucz: 1\n",
      "wartość: M\n",
      "wartość: CM\n",
      "wartość: D\n",
      "wartość: CD\n",
      "wartość: C\n",
      "wartość: XC\n",
      "wartość: L\n",
      "wartość: XL\n",
      "wartość: X\n",
      "wartość: IX\n",
      "wartość: V\n",
      "wartość: IV\n",
      "wartość: I\n",
      "1000 : M\n",
      "900 : CM\n",
      "500 : D\n",
      "400 : CD\n",
      "100 : C\n",
      "90 : XC\n",
      "50 : L\n",
      "40 : XL\n",
      "10 : X\n",
      "9 : IX\n",
      "5 : V\n",
      "4 : IV\n",
      "1 : I\n"
     ]
    }
   ],
   "source": [
    "#przykładowy słownik\n",
    "rzymskie = { 1000:\"M\", 900:\"CM\", 500:\"D\", 400:\"CD\", 100:\"C\", 90:\"XC\", 50:\"L\",\n",
    "             40:\"XL\", 10:\"X\", 9:\"IX\", 5:\"V\", 4:\"IV\", 1:\"I\" }\n",
    "#iterowanie po słowniku:\n",
    "for klucz in rzymskie:\n",
    "    print('klucz:',klucz)\n",
    "#iterowanie po słowniku 2:\n",
    "for wartość in rzymskie.values():\n",
    "    print('wartość:',wartość)\n",
    "#iterowanie po słowniku 3:\n",
    "for klucz, wartość in rzymskie.items():\n",
    "    print(klucz,':',wartość)\n"
   ]
  },
  {
   "cell_type": "markdown",
   "metadata": {},
   "source": [
    "27) Wymyśl i utwórz własny słownik.\n",
    "\n",
    "Twoja treść zadania: zamień klucz i wartość w słowniku rzymskie i stwórz nowy słownik zwany arabskie."
   ]
  },
  {
   "cell_type": "code",
   "execution_count": 113,
   "metadata": {},
   "outputs": [
    {
     "name": "stdout",
     "output_type": "stream",
     "text": [
      "1000 : M\n",
      "900 : CM\n",
      "500 : D\n",
      "400 : CD\n",
      "100 : C\n",
      "90 : XC\n",
      "50 : L\n",
      "40 : XL\n",
      "10 : X\n",
      "9 : IX\n",
      "5 : V\n",
      "4 : IV\n",
      "1 : I\n"
     ]
    }
   ],
   "source": [
    "arabskie = {v: k for k, v in rzymskie.items()}\n",
    "#iterowanie po słowniku:\n",
    "for klucz, wartość in rzymskie.items():\n",
    "    print(klucz,':',wartość)"
   ]
  },
  {
   "cell_type": "markdown",
   "metadata": {},
   "source": [
    "28) Wymyśl przykładowe użycie słownika z zadania 27 (1).\n",
    "\n",
    "Twoja treść zadania: Napisz konwerter liczb arabskich na rzymskie i na odwrót."
   ]
  },
  {
   "cell_type": "code",
   "execution_count": 114,
   "metadata": {},
   "outputs": [
    {
     "name": "stdout",
     "output_type": "stream",
     "text": [
      "1010\n",
      "MMMMMMMMMMMMCDLVI\n"
     ]
    }
   ],
   "source": [
    "#rozwiązanie zadania 28\n",
    "def konwerter(liczba: int or str) -> int or str:\n",
    "    \"\"\"\n",
    "    Konwertuje liczbę arabską na rzymską lub liczbę rzymską na arabską.\n",
    "    Jeśli argument jest liczbą rzymską (typu str), konwertuje go na liczbę arabską (typu int).\n",
    "    Jeśli argument jest liczbą arabską (typu int), konwertuje go na liczbę rzymską (typu str).\n",
    "    Argument nie może być żadnym innym typem. Do konwersji wykorzystywany jest słownik arabskich cyfr.\n",
    "    \n",
    "    :param int or str liczba: Liczba arabska lub rzymska do konwersji.\n",
    "    :return: Skonwertowana liczba.\n",
    "    :rtype: int lub str\n",
    "    :raises TypeError: Jeśli argument nie jest liczbą arabską ani rzymską.\n",
    "    \"\"\"\n",
    "    if isinstance(liczba, str) and any(numeral in arabskie for numeral in liczba):\n",
    "        arab = 0\n",
    "        for i, numeral in enumerate(liczba):\n",
    "            if i > 0 and arabskie[numeral] > arabskie[liczba[i-1]]:\n",
    "                arab += arabskie[numeral] - 2 * arabskie[liczba[i-1]]\n",
    "            else:\n",
    "                arab += arabskie[numeral]\n",
    "        return arab\n",
    "    elif isinstance(liczba, int):\n",
    "        rzym = \"\"\n",
    "        for numeral, value in arabskie.items():\n",
    "            while liczba >= value:\n",
    "                rzym += numeral\n",
    "                liczba -= value\n",
    "        return rzym\n",
    "    else:\n",
    "        raise TypeError(\"Argument musi być liczbą arabską lub rzymską\")\n",
    "print(konwerter(liczba=\"CMXXXC\"))\n",
    "print(konwerter(liczba=12456))"
   ]
  },
  {
   "cell_type": "markdown",
   "metadata": {},
   "source": [
    "29) Wymyśl przykładowe użycie słownika z zadania 27 (2).\n",
    "\n",
    "Twoja treść zadania: Napisz zegar, który pokazuje godzinę i minutę w cyfrach rzymskich."
   ]
  },
  {
   "cell_type": "code",
   "execution_count": 115,
   "metadata": {},
   "outputs": [],
   "source": [
    "import time"
   ]
  },
  {
   "cell_type": "code",
   "execution_count": 116,
   "metadata": {},
   "outputs": [
    {
     "name": "stdout",
     "output_type": "stream",
     "text": [
      "XXIII:I\n"
     ]
    }
   ],
   "source": [
    "#rozwiązanie zadania 29\n",
    "def czas_rzymski() -> str:\n",
    "    \"\"\"\n",
    "    Zwraca aktualny czas w postaci cyfr rzymskich.\n",
    "\n",
    "    :return: Aktualny czas w postaci cyfr rzymskich, oddzielonych dwukropkiem.\n",
    "    :rtype: str\n",
    "    \"\"\"\n",
    "    czas = time.strftime(\"%H:%M\")\n",
    "    godzina, minuta = map(int, czas.split(\":\"))\n",
    "    godzina_rzymska=konwerter(godzina)\n",
    "    minuta_rzymska=konwerter(minuta)\n",
    "    return f\"{godzina_rzymska}:{minuta_rzymska}\"\n",
    "print(czas_rzymski())"
   ]
  },
  {
   "cell_type": "markdown",
   "metadata": {},
   "source": [
    "30) Wymyśl przykładowe użycie słownika z zadania 27 (3).\n",
    "\n",
    "Twoja treść zadania: Zlicz wystąpienia liter ze słownika arabskie w podanym tekście."
   ]
  },
  {
   "cell_type": "code",
   "execution_count": 117,
   "metadata": {},
   "outputs": [
    {
     "name": "stdout",
     "output_type": "stream",
     "text": [
      "{'M': 1, 'C': 22, 'L': 17, 'V': 53, 'X': 2, 'I': 5}\n"
     ]
    }
   ],
   "source": [
    "#rozwiązanie zadania 30\n",
    "def zlicz_litery(text: str) -> dict:\n",
    "    \"\"\"\n",
    "    Zlicza wystąpienia liter rzymskich w tekście.\n",
    "\n",
    "    :param str text: Tekst do analizy.\n",
    "    :return: Słownik, w którym kluczami są litery rzymskie występujące w tekście, a wartościami są liczby ich wystąpień.\n",
    "    :rtype: dict\n",
    "    \"\"\"\n",
    "    counts = {}\n",
    "    for letter in text:\n",
    "        if (letter := letter.upper()) in arabskie:\n",
    "            counts[letter] = counts.get(letter, 0) + 1\n",
    "    return counts\n",
    "print(zlicz_litery(this.s)) # dajemy odwrócony tekst z zen of python"
   ]
  },
  {
   "cell_type": "code",
   "execution_count": null,
   "metadata": {},
   "outputs": [],
   "source": []
  }
 ],
 "metadata": {
  "kernelspec": {
   "display_name": "Python 3 (ipykernel)",
   "language": "python",
   "name": "python3"
  },
  "language_info": {
   "codemirror_mode": {
    "name": "ipython",
    "version": 3
   },
   "file_extension": ".py",
   "mimetype": "text/x-python",
   "name": "python",
   "nbconvert_exporter": "python",
   "pygments_lexer": "ipython3",
   "version": "3.11.3"
  }
 },
 "nbformat": 4,
 "nbformat_minor": 4
}
