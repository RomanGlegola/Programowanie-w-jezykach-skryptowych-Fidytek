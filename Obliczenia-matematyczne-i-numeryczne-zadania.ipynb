{
 "cells": [
  {
   "cell_type": "markdown",
   "metadata": {},
   "source": [
    "# Obliczenia matematyczne i numeryczne w Pythonie"
   ]
  },
  {
   "cell_type": "markdown",
   "metadata": {},
   "source": [
    "Imię i nazwisko autora rozwiązań zadań: Roman Glegoła\n",
    "\n",
    "Data wykonania zadań: 02.04.2023\n",
    "\n",
    "\n"
   ]
  },
  {
   "cell_type": "markdown",
   "metadata": {},
   "source": [
    "### Zadanie 1 [0,5 pkt] (użyj biblioteki math)\n",
    "\n",
    "Wymyśl nietrywialną treść zadania matematycznego i rozwiąż je w języku Python."
   ]
  },
  {
   "cell_type": "markdown",
   "metadata": {},
   "source": [
    "Treść wymyślonego zadania 1: Oblicz pole koła o zadanym promieniu."
   ]
  },
  {
   "cell_type": "code",
   "execution_count": 63,
   "metadata": {},
   "outputs": [],
   "source": [
    "import math\n",
    "import numpy as np\n",
    "import pytest"
   ]
  },
  {
   "cell_type": "code",
   "execution_count": 64,
   "metadata": {},
   "outputs": [
    {
     "name": "stdout",
     "output_type": "stream",
     "text": [
      "3.141592653589793\n"
     ]
    }
   ],
   "source": [
    "# Rozwiązanie zadania 1:\n",
    "def pole_kola(promien: float) -> float:\n",
    "    \"\"\"\n",
    "    Oblicza pole koła o zadanym promieniu.\n",
    "    :param float promien: promień koła\n",
    "    :return: pole koła o zadanym promieniu\n",
    "    :rtype: float\n",
    "    \"\"\"\n",
    "    pole = math.pi * promien ** 2\n",
    "    return pole\n",
    "print(pole_kola(promien=1))"
   ]
  },
  {
   "cell_type": "markdown",
   "metadata": {},
   "source": [
    "### Zadanie 2 [0,5 pkt] (użyj biblioteki cmath)\n",
    "\n",
    "Wymyśl nietrywialną treść zadania matematycznego i rozwiąż je w języku Python."
   ]
  },
  {
   "cell_type": "markdown",
   "metadata": {},
   "source": [
    "Treść wymyślonego zadania 2: Oblicz wartość funkcji Ackermanna dla zadanego m i n."
   ]
  },
  {
   "cell_type": "code",
   "execution_count": 65,
   "metadata": {},
   "outputs": [
    {
     "name": "stdout",
     "output_type": "stream",
     "text": [
      "125\n"
     ]
    }
   ],
   "source": [
    "# Rozwiązanie zadania 2:\n",
    "def ackermann(argument_1: int, argument_2: int) -> int:\n",
    "    \"\"\"\n",
    "    Oblicza wartość funkcji Ackermanna dla zadanego m i n.\n",
    "    :param int argument_1: pierwszy argument funkcji\n",
    "    :param int argument_2: drugi argument funkcji\n",
    "    :return: wartość funkcji Ackermanna dla zadanego m i n\n",
    "    :rtype: int\n",
    "    \"\"\"\n",
    "    if argument_1 == 0:\n",
    "        return argument_2 + 1\n",
    "    elif argument_1 > 0 and argument_2 == 0:\n",
    "        return ackermann(argument_1 - 1, 1)\n",
    "    else:\n",
    "        return ackermann(argument_1 - 1, ackermann(argument_1, argument_2 - 1))\n",
    "print(ackermann(3, 4))"
   ]
  },
  {
   "cell_type": "markdown",
   "metadata": {},
   "source": [
    "### Zadanie 3 [0,5 pkt] (użyj wektorów z biblioteki numpy)\n",
    "\n",
    "Wymyśl nietrywialną treść zadania matematycznego i rozwiąż je w języku Python."
   ]
  },
  {
   "cell_type": "markdown",
   "metadata": {},
   "source": [
    "Treść wymyślonego zadania 3: Oblicz iloczyn skalarny dwóch wektorów."
   ]
  },
  {
   "cell_type": "code",
   "execution_count": 66,
   "metadata": {},
   "outputs": [
    {
     "name": "stdout",
     "output_type": "stream",
     "text": [
      "32\n"
     ]
    }
   ],
   "source": [
    "# Rozwiązanie zadania 3:\n",
    "def iloczyn_skalarny(wektor_1: list, wektor_2: list) -> float:\n",
    "    \"\"\"\n",
    "    Oblicza iloczyn skalarny dwóch wektorów.\n",
    "    :param list wektor_1: pierwszy wektor\n",
    "    :param list wektor_2: drugi wektor\n",
    "    :return: iloczyn skalarny dwóch wektorów\n",
    "    :rtype: float\n",
    "    \"\"\"\n",
    "    wektor_1 = np.array(wektor_1)\n",
    "    wektor_2 = np.array(wektor_2)\n",
    "    return np.dot(wektor_1, wektor_2)\n",
    "print(iloczyn_skalarny(wektor_1 = [1, 2, 3], wektor_2  = [4, 5, 6]))"
   ]
  },
  {
   "cell_type": "markdown",
   "metadata": {},
   "source": [
    "### Zadanie 4 [0,5 pkt] (użyj macierzy z biblioteki numpy)\n",
    "Wymyśl nietrywialną treść zadania matematycznego i rozwiąż je w języku Python."
   ]
  },
  {
   "cell_type": "markdown",
   "metadata": {},
   "source": [
    "Treść wymyślonego zadania 4: Oblicz iloczyn dwóch macierzy kwadratowych."
   ]
  },
  {
   "cell_type": "code",
   "execution_count": 67,
   "metadata": {},
   "outputs": [
    {
     "name": "stdout",
     "output_type": "stream",
     "text": [
      "[[19 22]\n",
      " [43 50]]\n"
     ]
    }
   ],
   "source": [
    "# Rozwiązanie zadania 4:\n",
    "def iloczyn_macierzy(macierz_1: list, macierz_2: list) -> np.ndarray:\n",
    "    \"\"\"\n",
    "    Oblicza iloczyn dwóch macierzy kwadratowych.\n",
    "    :param list macierz_1: lista z elementami pierwszej macierzy\n",
    "    :param list macierz_2: lista z elementami drugiej macierzy\n",
    "    :return: macierz będąca iloczynem macierzy macierz_1 i macierz_2\n",
    "    :rtype: numpy.ndarray\n",
    "    \"\"\"\n",
    "    A = np.array(macierz_1)\n",
    "    B = np.array(macierz_2)\n",
    "    if A.shape[0] != A.shape[1] or B.shape[0] != B.shape[1]:\n",
    "        raise ValueError(\"Podane macierze nie są kwadratowe!\")\n",
    "    elif A.shape[1] != B.shape[0]:\n",
    "        raise ValueError(\"Niepoprawne wymiary macierzy!\")\n",
    "    else:\n",
    "        return np.dot(A, B)\n",
    "\n",
    "print(iloczyn_macierzy(macierz_1 = [[1, 2], [3, 4]], macierz_2 = [[5, 6], [7, 8]]))"
   ]
  },
  {
   "cell_type": "markdown",
   "metadata": {},
   "source": [
    "### Zadanie 5 [1 pkt]\n",
    "Napisz program, który poprosi użytkownika o podanie współrzędnych kartezjańskich x, y, z punktu w przestrzeni, a następnie przeliczy je na współrzędne w układzie *sferycznym* i *cylindrycznym* i wypisze wyniki.\n",
    "\n",
    "Zadbaj nie tylko o poprawność wyników, ale także o czytelność kodu i komunikację z użytkownikiem. \n",
    "Użyj funkcji matematycznych z biblioteki math.\n",
    "\n",
    "Częściowa wskazówka: http://cybermoon.pl/wiedza/algorithms/sferyczne_kartez.html"
   ]
  },
  {
   "cell_type": "code",
   "execution_count": 68,
   "metadata": {},
   "outputs": [
    {
     "name": "stdout",
     "output_type": "stream",
     "text": [
      "Podaj współrzędną x punktu w przestrzeni: 1\n",
      "Podaj współrzędną y punktu w przestrzeni: 1\n",
      "Podaj współrzędną z punktu w przestrzeni: 1\n",
      "Współrzędne sferyczne:\n",
      "r = 1.7320508075688772\n",
      "phi = 0.7853981633974483\n",
      "theta = 0.9553166181245093\n",
      "Współrzędne cylindryczne:\n",
      "rho = 1.4142135623730951\n",
      "phi = 0.7853981633974483\n",
      "z = 1.0\n"
     ]
    }
   ],
   "source": [
    "# Rozwiązanie zadania 5:\n",
    "\n",
    "def przelicznik_wspolrzednych(x: float, y: float, z: float) -> tuple:\n",
    "    \"\"\"\n",
    "    Funkcja pobiera od użytkownika współrzędne kartezjańskie punktu w przestrzeni, przelicza je na współrzędne w układzie\n",
    "    sferycznym i cylindrycznym, a następnie wypisuje wyniki.\n",
    "    :param float x: wartość współrzędnej x punktu w przestrzeni\n",
    "    :param float y: wartość współrzędnej y punktu w przestrzeni\n",
    "    :param float z: wartość współrzędnej z punktu w przestrzeni\n",
    "    :return: krotka zawierająca wartości współrzędnych punktu w układzie sferycznym i cylindrycznym\n",
    "    :rtype: tuple\n",
    "    \"\"\"\n",
    "    r = math.sqrt(x**2 + y**2 + z**2)\n",
    "    theta = math.atan2(math.sqrt(x**2 + y**2), z)\n",
    "    phi = math.atan2(y, x)\n",
    "    rho = math.sqrt(x**2 + y**2)\n",
    "    if rho == 0:\n",
    "        if z >= 0:\n",
    "            z = r\n",
    "        else:\n",
    "            z = -r\n",
    "        phi_cyl = 0\n",
    "    else:\n",
    "        phi_cyl = math.atan2(y, x)\n",
    "    z_cyl = z\n",
    "    return r, theta, phi, rho, phi_cyl, z_cyl\n",
    "\n",
    "x = float(input(\"Podaj współrzędną x punktu w przestrzeni: \"))\n",
    "y = float(input(\"Podaj współrzędną y punktu w przestrzeni: \"))\n",
    "z = float(input(\"Podaj współrzędną z punktu w przestrzeni: \"))\n",
    "\n",
    "r, theta, phi, rho, phi_cyl, z_cyl  = przelicznik_wspolrzednych(x, y, z)\n",
    "print(\"Współrzędne sferyczne:\")\n",
    "print(f\"r = {r}\")\n",
    "print(f\"phi = {phi}\")\n",
    "print(f\"theta = {theta}\")\n",
    "print(\"Współrzędne cylindryczne:\")\n",
    "print(f\"rho = {rho}\")\n",
    "print(f\"phi = {phi_cyl}\")\n",
    "print(f\"z = {z_cyl}\")"
   ]
  },
  {
   "cell_type": "markdown",
   "metadata": {},
   "source": [
    "### Zadanie 6 [1 pkt]\n",
    "Liczby Catalana (https://en.wikipedia.org/wiki/Catalan_number) to ciąg, który można wyrazić wzorem rekurencyjnym:\n",
    "$$C_0 = 1$$\n",
    "$$C_{n+1} = \\frac{4n + 2}{n + 2}Cn$$\n",
    "\n",
    "Napisz program, który wypisuje wszystkie liczby Catalana mniejsze od miliona i podaje, ile jest wśród nich\n",
    "liczb parzystych i nieparzystych. "
   ]
  },
  {
   "cell_type": "code",
   "execution_count": 69,
   "metadata": {},
   "outputs": [
    {
     "name": "stdout",
     "output_type": "stream",
     "text": [
      "Liczby Catalana mniejsze od 1000000: [1, 1, 2, 5, 14, 42, 132, 429, 1430, 4862, 16796, 58786, 208012, 742900]\n",
      "Liczba liczb parzystych: 11\n",
      "Liczba liczb nieparzystych: 4\n"
     ]
    }
   ],
   "source": [
    "# Rozwiązanie zadania 6:\n",
    "def liczby_catalana(max_val: int) -> tuple:\n",
    "    \"\"\"\n",
    "    Funkcja generuje kolejne liczby Catalana mniejsze od podanej wartości max_val i zwraca ich listę, liczbę liczb\n",
    "    parzystych i liczbę liczb nieparzystych.\n",
    "    :param int max_val: wartość graniczna liczby większe lub równe max_val nie będą uwzględnione\n",
    "    :return: krotka zawierająca: wartość graniczną, listę liczb Catalana mniejszych od max_val, \n",
    "        liczbę liczb parzystych, liczbę liczb nieparzystych\n",
    "    :rtype: tuple\n",
    "    \"\"\"\n",
    "    c = [1]\n",
    "    i = 0\n",
    "    while c[-1] < max_val:\n",
    "        i += 1\n",
    "        c_i = int((4*i-2)/(i+1)*c[i-1])\n",
    "        c.append(c_i)\n",
    "    even_count = len([x for x in c if x % 2 == 0])\n",
    "    odd_count = len([x for x in c if x % 2 != 0])\n",
    "    return max_val, c[:-1], even_count, odd_count\n",
    "\n",
    "max_val, c, even_count, odd_count = liczby_catalana(1000000)\n",
    "print(f\"Liczby Catalana mniejsze od {max_val}: {c}\")\n",
    "print(f\"Liczba liczb parzystych: {even_count}\")\n",
    "print(f\"Liczba liczb nieparzystych: {odd_count}\")"
   ]
  },
  {
   "cell_type": "markdown",
   "metadata": {},
   "source": [
    "### Zadanie 7 [1 pkt]\n",
    "\n",
    "Liczby doskonałe to takie, które są sumą swoich dzielników właściwych (https://en.wikipedia.org/wiki/Perfect_number). \n",
    "\n",
    "Napisz funkcję, która dla swojego argumentu będącego liczbą naturalną sprawdza, czy jest on liczbą doskonałą (funkcja zwraca 1) czy też nie (funkcja zwraca 0).\n",
    "\n",
    "Przetestuj działanie napisanej funkcji."
   ]
  },
  {
   "cell_type": "code",
   "execution_count": 70,
   "metadata": {},
   "outputs": [
    {
     "name": "stdout",
     "output_type": "stream",
     "text": [
      "0\n"
     ]
    }
   ],
   "source": [
    "# Implementacja funkcji z zadania 7:\n",
    "def czy_doskonala(liczba: int) -> int:\n",
    "    \"\"\"\n",
    "    Funkcja sprawdza, czy podana liczba naturalna jest doskonała.\n",
    "    :param int liczba: liczba naturalna do sprawdzenia\n",
    "    :return: 1 jeśli liczba jest doskonała, 0 w przeciwnym przypadku\n",
    "    :rtype: int\n",
    "    \"\"\"\n",
    "    if liczba <= 0:\n",
    "        return 0\n",
    "    dzielniki = np.array([i for i in range(1, liczba) if liczba % i == 0])\n",
    "    return int(dzielniki.sum() == liczba)\n",
    "\n",
    "print(czy_doskonala(100))"
   ]
  },
  {
   "cell_type": "code",
   "execution_count": 75,
   "metadata": {},
   "outputs": [],
   "source": [
    "# Test nr 1 funkcji (liczba ma być doskonała):\n",
    "def test_czy_doskonala_dla_liczby_dodatniej():\n",
    "    assert czy_doskonala(6) == 1\n",
    "\n",
    "test_czy_doskonala_dla_liczby_dodatniej()"
   ]
  },
  {
   "cell_type": "code",
   "execution_count": 76,
   "metadata": {},
   "outputs": [],
   "source": [
    "# Test nr 2 funkcji (liczba ma być doskonała):\n",
    "def test_czy_doskonala_dla_liczby_dodatniej():\n",
    "    assert czy_doskonala(496) == 1\n",
    "\n",
    "test_czy_doskonala_dla_liczby_dodatniej()"
   ]
  },
  {
   "cell_type": "code",
   "execution_count": 77,
   "metadata": {},
   "outputs": [],
   "source": [
    "# Test nr 3 funkcji (liczba nie ma być doskonała):\n",
    "def test_czy_doskonala_dla_liczby_ujemnej():\n",
    "    assert czy_doskonala(-6) == 0\n",
    "\n",
    "test_czy_doskonala_dla_liczby_ujemnej()"
   ]
  },
  {
   "cell_type": "code",
   "execution_count": 78,
   "metadata": {},
   "outputs": [],
   "source": [
    "# Test nr 4 funkcji (liczba nie ma być doskonała):\n",
    "def test_czy_doskonala_dla_liczby_ujemnej():\n",
    "    assert czy_doskonala(-496) == 0\n",
    "\n",
    "test_czy_doskonala_dla_zera()"
   ]
  },
  {
   "cell_type": "code",
   "execution_count": null,
   "metadata": {},
   "outputs": [],
   "source": []
  }
 ],
 "metadata": {
  "kernelspec": {
   "display_name": "Python 3 (ipykernel)",
   "language": "python",
   "name": "python3"
  },
  "language_info": {
   "codemirror_mode": {
    "name": "ipython",
    "version": 3
   },
   "file_extension": ".py",
   "mimetype": "text/x-python",
   "name": "python",
   "nbconvert_exporter": "python",
   "pygments_lexer": "ipython3",
   "version": "3.11.3"
  }
 },
 "nbformat": 4,
 "nbformat_minor": 4
}
