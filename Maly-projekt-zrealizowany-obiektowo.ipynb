{
 "cells": [
  {
   "cell_type": "code",
   "execution_count": 109,
   "id": "f5861d56",
   "metadata": {},
   "outputs": [],
   "source": [
    "import random"
   ]
  },
  {
   "cell_type": "code",
   "execution_count": 110,
   "id": "27740991",
   "metadata": {},
   "outputs": [],
   "source": [
    "class Dice:\n",
    "    \"\"\"\n",
    "    Ta klasa definiuje ogólny koncept kostki do gry. \n",
    "    Kostka może mieć różną liczbę ścianek i umożliwia \n",
    "    rzuty w celu losowego generowania wyniku.\n",
    "\n",
    "    +--------------+ roll() +----------------+ roll() +----------+\n",
    "    |     Dice     | -----> | PolyhedralDice | -----> | DiceRoll | ---------+\n",
    "    +--------------+        +----------------+        +----------+          |\n",
    "                                                                            |\n",
    "                                                             perform_roll() |\n",
    "                                                                            |\n",
    "                                                                            v\n",
    "                                                                        [ RESULT ]\n",
    "\n",
    "    \"\"\"\n",
    "\n",
    "    def __init__(self, num_sides: int):\n",
    "        \"\"\"\n",
    "        Inicjalizacja obiektu kostki.\n",
    "        \n",
    "        :param int num_sides: liczba ścianek kostki\n",
    "        \"\"\"\n",
    "        self.num_sides = num_sides\n",
    "\n",
    "    def roll(self) -> int:\n",
    "        \"\"\"\n",
    "        Rzuca kostką i zwraca wynik.\n",
    "        \n",
    "        :rtype: int\n",
    "        \"\"\"\n",
    "        return random.randint(1, self.num_sides)"
   ]
  },
  {
   "cell_type": "code",
   "execution_count": 111,
   "id": "687e2554",
   "metadata": {},
   "outputs": [],
   "source": [
    "class PolyhedralDice(Dice):\n",
    "    \"\"\"\n",
    "    Klasa reprezentująca kostkę wielościenną.\n",
    "    \n",
    "    Ta klasa dziedziczy po klasie Dice i rozszerza jej funkcjonalność \n",
    "    o możliwość rzutów kostką o różnej liczbie ścianek.\n",
    "    \"\"\"\n",
    "    def __init__(self, num_sides: int):\n",
    "        \"\"\"\n",
    "        Inicjalizuje obiekt kostki wielościennej.\n",
    "        \n",
    "        :param int num_sides: liczba ścianek kostki\n",
    "        \"\"\"\n",
    "        super().__init__(num_sides)\n",
    "\n",
    "    def roll(self) -> int:\n",
    "        \"\"\"\n",
    "        Rzuca kostką i zwraca wynik.\n",
    "        \n",
    "        :rtype: int\n",
    "        \"\"\"\n",
    "        return super().roll()"
   ]
  },
  {
   "cell_type": "code",
   "execution_count": 112,
   "id": "1d2df02b",
   "metadata": {},
   "outputs": [],
   "source": [
    "class DiceRoll:\n",
    "    \"\"\"\n",
    "    Klasa reprezentująca rzut kostką.\n",
    "    \n",
    "    Ta klasa przechowuje obiekt kostki, wykonuje rzut i zwraca wynik rzutu.\n",
    "    \"\"\"\n",
    "\n",
    "    def __init__(self, dice: PolyhedralDice):\n",
    "        \"\"\"\n",
    "        Inicjalizacja obiektu rzutu kostką.\n",
    "        \n",
    "        :param PolyhedralDice dice: obiekt kostki\n",
    "        \"\"\"\n",
    "        self.dice = dice\n",
    "\n",
    "    def perform_roll(self) -> int:\n",
    "        \"\"\"\n",
    "        Rzuca kostką i zwraca wynik.\n",
    "        \n",
    "        :rtype: int\n",
    "        \"\"\"\n",
    "        return self.dice.roll()"
   ]
  },
  {
   "cell_type": "code",
   "execution_count": 113,
   "id": "7061ddda",
   "metadata": {},
   "outputs": [
    {
     "name": "stdout",
     "output_type": "stream",
     "text": [
      "Wynik rzutu kostką czterościenną: 3\n"
     ]
    }
   ],
   "source": [
    "k4 = PolyhedralDice(4)  # Czterościenna kostka\n",
    "roll_k4 = DiceRoll(k4)\n",
    "result_k4 = roll_k4.perform_roll()\n",
    "print(f\"Wynik rzutu kostką czterościenną: {result_k4}\")"
   ]
  },
  {
   "cell_type": "code",
   "execution_count": 114,
   "id": "ddcfe70a",
   "metadata": {},
   "outputs": [
    {
     "name": "stdout",
     "output_type": "stream",
     "text": [
      "Wynik rzutu kostką sześciościenną: 2\n"
     ]
    }
   ],
   "source": [
    "k6 = PolyhedralDice(6)  # Sześciościenna kostka\n",
    "roll_k6 = DiceRoll(k6)\n",
    "result_k6 = roll_k6.perform_roll()\n",
    "print(f\"Wynik rzutu kostką sześciościenną: {result_k6}\")"
   ]
  },
  {
   "cell_type": "code",
   "execution_count": 115,
   "id": "6a8d57a8",
   "metadata": {},
   "outputs": [
    {
     "name": "stdout",
     "output_type": "stream",
     "text": [
      "Wynik rzutu kostką ośmiościenną: 7\n"
     ]
    }
   ],
   "source": [
    "k8 = PolyhedralDice(8)  # Ośmiościenna kostka\n",
    "roll_k8 = DiceRoll(d8)\n",
    "result_k8 = roll_k8.perform_roll()\n",
    "print(f\"Wynik rzutu kostką ośmiościenną: {result_k8}\")"
   ]
  },
  {
   "cell_type": "code",
   "execution_count": 116,
   "id": "e7a59113",
   "metadata": {},
   "outputs": [
    {
     "name": "stdout",
     "output_type": "stream",
     "text": [
      "Wynik rzutu kostką dziesięciościenną: 5\n"
     ]
    }
   ],
   "source": [
    "k10 = PolyhedralDice(10)  # Dziesięciościenna kostka\n",
    "roll_k10 = DiceRoll(d10)\n",
    "result_k10 = roll_k10.perform_roll()\n",
    "print(f\"Wynik rzutu kostką dziesięciościenną: {result_k10}\")"
   ]
  },
  {
   "cell_type": "code",
   "execution_count": 117,
   "id": "58d46804",
   "metadata": {},
   "outputs": [
    {
     "name": "stdout",
     "output_type": "stream",
     "text": [
      "Wynik rzutu kostką dwunastościenną: 7\n"
     ]
    }
   ],
   "source": [
    "k12 = PolyhedralDice(12)  # Dwunastościenna kostka\n",
    "roll_k12 = DiceRoll(k12)\n",
    "result_k12 = roll_k12.perform_roll()\n",
    "print(f\"Wynik rzutu kostką dwunastościenną: {result_k12}\")"
   ]
  },
  {
   "cell_type": "code",
   "execution_count": 118,
   "id": "e119f7d6",
   "metadata": {},
   "outputs": [
    {
     "name": "stdout",
     "output_type": "stream",
     "text": [
      "Wynik rzutu kostką dwudziestościenną: 9\n"
     ]
    }
   ],
   "source": [
    "k20 = PolyhedralDice(20)  # Dwudziestościenna kostka\n",
    "roll_k20 = DiceRoll(k20)\n",
    "result_k20 = roll_k20.perform_roll()\n",
    "print(f\"Wynik rzutu kostką dwudziestościenną: {result_k20}\")"
   ]
  },
  {
   "cell_type": "code",
   "execution_count": null,
   "id": "753540f4",
   "metadata": {},
   "outputs": [],
   "source": []
  }
 ],
 "metadata": {
  "kernelspec": {
   "display_name": "Python 3 (ipykernel)",
   "language": "python",
   "name": "python3"
  },
  "language_info": {
   "codemirror_mode": {
    "name": "ipython",
    "version": 3
   },
   "file_extension": ".py",
   "mimetype": "text/x-python",
   "name": "python",
   "nbconvert_exporter": "python",
   "pygments_lexer": "ipython3",
   "version": "3.11.3"
  }
 },
 "nbformat": 4,
 "nbformat_minor": 5
}
